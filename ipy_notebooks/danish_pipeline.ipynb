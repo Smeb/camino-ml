{
 "cells": [
  {
   "cell_type": "code",
   "execution_count": 60,
   "metadata": {
    "collapsed": false
   },
   "outputs": [
    {
     "name": "stdout",
     "output_type": "stream",
     "text": [
      "/home/danish/Documents/research\n"
     ]
    }
   ],
   "source": [
    "cd /home/danish/Documents/research"
   ]
  },
  {
   "cell_type": "code",
   "execution_count": 61,
   "metadata": {
    "collapsed": false
   },
   "outputs": [],
   "source": [
    "import subprocess\n",
    "import pandas as pd\n",
    "import numpy as np\n",
    "import random\n",
    "import os\n",
    "import time\n",
    "import progressbar\n",
    "import matplotlib.pyplot as plt\n",
    "import math"
   ]
  },
  {
   "cell_type": "markdown",
   "metadata": {},
   "source": [
    "# Generating Data"
   ]
  },
  {
   "cell_type": "code",
   "execution_count": 42,
   "metadata": {
    "collapsed": true
   },
   "outputs": [],
   "source": [
    "#fuction for generating the sythesised MRI signals\n",
    "\n",
    "def genData(modelsDict, schemeFileLoc, fileName, iterations, groundTruthNames):\n",
    "    argsList = [\"datasynth\", \"-synthmodel\", \"compartment\"]\n",
    "    numberOfCompartments = len(modelsDict)\n",
    "    argsList.append(numberOfCompartments)\n",
    "    for key in range(numberOfCompartments):\n",
    "        for value in modelsDict.values()[key]:\n",
    "            argsList.append(value)\n",
    "    argsList.extend((\"-schemefile\", schemeFileLoc, \"-voxels\", 1, \">\", fileName + \".Bfloat\", \"2>>\", fileName + \".log\"))\n",
    "        \n",
    "    #extra validation\n",
    "    count = 0\n",
    "    for value in argsList:\n",
    "        if type(value) == list:\n",
    "            count += 1\n",
    "    if count == 0:\n",
    "        print \"No parameters are being varied\"\n",
    "    if count != len(groundTruthNames):\n",
    "        print \"The number of parameters being varied do not match with the list of columns specifed\"\n",
    "        \n",
    "    #dataframe used to store the groundtruths in the correct sequence\n",
    "    groundTruths = pd.DataFrame(np.random.randn(iterations, len(groundTruthNames)), columns = groundTruthNames)\n",
    "    bar = progressbar.ProgressBar()\n",
    "    for iteration in bar(range(iterations)):\n",
    "        args = list(argsList)\n",
    "        i = 0\n",
    "        for index, val in enumerate(args):\n",
    "            if type(val) == list:\n",
    "                args[index] = random.uniform(val[0], val[1])\n",
    "                groundTruths.set_value(iteration, groundTruthNames[i], args[index])\n",
    "                i += 1\n",
    "            if val == fileName+\".Bfloat\":\n",
    "                args[index] = fileName + str(iteration) + \".Bfloat\"\n",
    "            args[index] = str(args[index])\n",
    "            \n",
    "        #create a subprocess which calls the command that generates a synthesised MRI signal\n",
    "        subprocess.call(' '.join(args), shell=True)\n",
    "        subprocess.call(\"echo '\\n----------\\n' >>\" + fileName + \".log\", shell = True)\n",
    "    #save groundtruths dataframe as csv file in same loc as .Bfloat files\n",
    "    groundTruths.to_csv(fileName + \"_GroundTruths.csv\")\n",
    "    return groundTruths"
   ]
  },
  {
   "cell_type": "code",
   "execution_count": 43,
   "metadata": {
    "collapsed": true
   },
   "outputs": [],
   "source": [
    "#function for converting the .Bfloat files to a 2d numpy-array\n",
    "\n",
    "def transformData(folderPath):\n",
    "    \n",
    "    #create a new datatype that is big-endian and has size of a single-precision float\n",
    "    dt = np.dtype('>f')\n",
    "    \n",
    "    isExec = False\n",
    "    BFloatFiles = [filename for filename in os.listdir(folderPath) if filename.endswith(\".Bfloat\")]\n",
    "    voxelCount = len(BFloatFiles)\n",
    "    for fileName in BFloatFiles:\n",
    "        voxArray = np.fromfile(folderPath + \"/\" + fileName, dtype=dt, sep=\"\")\n",
    "        if isExec == False:\n",
    "            finalArray = np.full([voxelCount, len(voxArray)], 0)\n",
    "            isExec = True\n",
    "        voxArray = voxArray.reshape((1, voxArray.size))\n",
    "        \n",
    "        #get number from fileName\n",
    "        voxNumber = int(filter(str.isdigit, fileName))\n",
    "        finalArray[voxNumber] = voxArray\n",
    "    return finalArray"
   ]
  },
  {
   "cell_type": "code",
   "execution_count": 5,
   "metadata": {
    "collapsed": false
   },
   "outputs": [
    {
     "name": "stderr",
     "output_type": "stream",
     "text": [
      "100% |########################################################################|\n"
     ]
    }
   ],
   "source": [
    "model1 = { 1: ['Tensor', [0.8E-9, 2.2E-9], 0.0, 0.0, 2.0E-9, 1.4E-9, 0.0]}\n",
    "\n",
    "#specify the correct location of the scheme file and a generic filename for storing the bfloat files\n",
    "groundTruths = genData(model1, \"PGSE_90.scheme\", \"./exp1/DT\", 1000, [\"diffusivity\"])"
   ]
  },
  {
   "cell_type": "code",
   "execution_count": 64,
   "metadata": {
    "collapsed": false
   },
   "outputs": [],
   "source": [
    "groundTruths = pd.read_csv(\"./exp1/DT_GroundTruths.csv\", index_col = 0)\n",
    "data = transformData(\"./exp1\")\n",
    "y = groundTruths[' '.join(groundTruths.columns.tolist())].values\n",
    "y_scaled = y * 1E9"
   ]
  },
  {
   "cell_type": "markdown",
   "metadata": {},
   "source": [
    "# Machine Learning"
   ]
  },
  {
   "cell_type": "code",
   "execution_count": 65,
   "metadata": {
    "collapsed": true
   },
   "outputs": [],
   "source": [
    "from sklearn.model_selection import GridSearchCV\n",
    "from sklearn import linear_model\n",
    "from sklearn import metrics\n",
    "from sklearn.ensemble import RandomForestRegressor\n",
    "from sklearn import preprocessing"
   ]
  },
  {
   "cell_type": "code",
   "execution_count": 66,
   "metadata": {
    "collapsed": false
   },
   "outputs": [],
   "source": [
    "#we first randomly split the data into a training and testing set of ratio 7:3\n",
    "np.random.seed(0)\n",
    "indices = np.random.permutation(len(data))\n",
    "num = int(len(data)*0.7)\n",
    "X_train = data[indices[:num]]\n",
    "y_train = y_scaled[indices[:num]]\n",
    "X_test  = data[indices[num:]]\n",
    "y_true  = y_scaled[indices[num:]]"
   ]
  },
  {
   "cell_type": "markdown",
   "metadata": {},
   "source": [
    "Feature Visualisation"
   ]
  },
  {
   "cell_type": "code",
   "execution_count": 9,
   "metadata": {
    "collapsed": false,
    "scrolled": true
   },
   "outputs": [
    {
     "data": {
      "text/plain": [
       "<matplotlib.collections.PathCollection at 0xaa00ef4c>"
      ]
     },
     "execution_count": 9,
     "metadata": {},
     "output_type": "execute_result"
    },
    {
     "data": {
      "image/png": "[encoded data removed]",
      "text/plain": [
       "<matplotlib.figure.Figure at 0xabc6e9ac>"
      ]
     },
     "metadata": {},
     "output_type": "display_data"
    }
   ],
   "source": [
    "%matplotlib inline\n",
    "plt.scatter (X_train[:,0], y_train)\n",
    "#plt.scatter (X_train[:,1], y_train)\n",
    "#plt.scatter (X_train[:,2], y_train)"
   ]
  },
  {
   "cell_type": "markdown",
   "metadata": {
    "collapsed": true
   },
   "source": [
    "Experiment 1\n",
    "\n",
    "Model Used = Diffusion Tensor\n",
    "\n",
    "Parameters being predicted: Diffusivity in a single direction"
   ]
  },
  {
   "cell_type": "markdown",
   "metadata": {
    "collapsed": true
   },
   "source": [
    "Ridge Regression"
   ]
  },
  {
   "cell_type": "code",
   "execution_count": 67,
   "metadata": {
    "collapsed": true
   },
   "outputs": [],
   "source": [
    "reg = linear_model.RidgeCV()\n",
    "reg.fit(X_train, y_train)\n",
    "y_pred = reg.predict(X_test)"
   ]
  },
  {
   "cell_type": "code",
   "execution_count": 11,
   "metadata": {
    "collapsed": false
   },
   "outputs": [
    {
     "name": "stdout",
     "output_type": "stream",
     "text": [
      "explained varience score:  0.9997111875\n",
      "mean absolute error:  0.00589938498875\n",
      "mean squared error:  4.83665628086e-05\n",
      "r2_score:  0.999710463001\n"
     ]
    }
   ],
   "source": [
    "print \"explained varience score: \", metrics.explained_variance_score(y_true, y_pred)\n",
    "print \"mean absolute error: \", metrics.mean_absolute_error(y_true, y_pred)\n",
    "print \"mean squared error: \", metrics.mean_squared_error(y_true, y_pred)\n",
    "print \"r2_score: \", metrics.r2_score(y_true, y_pred)"
   ]
  },
  {
   "cell_type": "markdown",
   "metadata": {},
   "source": [
    "Random Forest Regressor"
   ]
  },
  {
   "cell_type": "code",
   "execution_count": 68,
   "metadata": {
    "collapsed": true
   },
   "outputs": [],
   "source": [
    "rfReg = RandomForestRegressor(n_estimators = 1)\n",
    "rfReg.fit(X_train, y_train)\n",
    "rfy_pred = rfReg.predict(X_test)"
   ]
  },
  {
   "cell_type": "code",
   "execution_count": 13,
   "metadata": {
    "collapsed": false
   },
   "outputs": [
    {
     "name": "stdout",
     "output_type": "stream",
     "text": [
      "explained varience score:  0.999973998234\n",
      "mean absolute error:  0.0015177084665\n",
      "mean squared error:  4.3440380656e-06\n",
      "r2_score:  0.999973995263\n"
     ]
    }
   ],
   "source": [
    "print \"explained varience score: \", metrics.explained_variance_score(y_true, rfy_pred)\n",
    "print \"mean absolute error: \", metrics.mean_absolute_error(y_true, rfy_pred)\n",
    "print \"mean squared error: \", metrics.mean_squared_error(y_true, rfy_pred)\n",
    "print \"r2_score: \", metrics.r2_score(y_true, rfy_pred)"
   ]
  },
  {
   "cell_type": "code",
   "execution_count": 90,
   "metadata": {
    "collapsed": false
   },
   "outputs": [],
   "source": [
    "def bland_altman_plot(y_true, rfy_pred, *args, **kwargs):\n",
    "    data1     = np.asarray(y_true)\n",
    "    data2     = np.asarray(rfy_pred)\n",
    "    mean      = np.mean([y_true, rfy_pred], axis=0)\n",
    "    diff      = y_true - rfy_pred                   # Difference between data1 and data2\n",
    "    md        = np.mean(diff)                   # Mean of the difference\n",
    "    sd        = np.std(diff, axis=0)            # Standard deviation of the difference\n",
    "\n",
    "    plt.scatter(mean, diff, *args, **kwargs)\n",
    "    plt.axhline(md,           color='gray', linestyle='--')\n",
    "    plt.axhline(md + 1.96*sd, color='gray', linestyle='--')\n",
    "    plt.axhline(md - 1.96*sd, color='gray', linestyle='--')\n",
    "    \n",
    "   \n",
    "  "
   ]
  },
  {
   "cell_type": "code",
   "execution_count": 91,
   "metadata": {
    "collapsed": false
   },
   "outputs": [
    {
     "data": {
      "image/png": "[encoded data removed]",
      "text/plain": [
       "<matplotlib.figure.Figure at 0xa9044aac>"
      ]
     },
     "metadata": {},
     "output_type": "display_data"
    }
   ],
   "source": [
    "from numpy.random import random\n",
    "\n",
    "bland_altman_plot(y_true, rfy_pred)\n",
    "plt.title('Bland-Altman Plot')\n",
    "plt.show()"
   ]
  },
  {
   "cell_type": "code",
   "execution_count": 78,
   "metadata": {
    "collapsed": false
   },
   "outputs": [
    {
     "data": {
      "text/plain": [
       "array([ 1.23619263,  1.49063219,  1.34503445,  2.05652219,  1.51623706,\n",
       "        1.69612949,  1.32705276,  1.49273619,  1.70321306,  0.98602031,\n",
       "        1.24979224,  0.82410872,  1.67093644,  1.04673863,  0.99230057,\n",
       "        1.05078121,  1.92904822,  1.10804757,  1.04873514,  1.49198367,\n",
       "        1.93868248,  1.82556985,  1.51653531,  2.0106038 ,  1.72731567,\n",
       "        1.55330134,  0.91109767,  1.97584359,  2.05885839,  2.1000698 ,\n",
       "        1.02365816,  1.71064987,  1.96202362,  1.30325242,  1.53231044,\n",
       "        1.93217243,  1.01458809,  1.75537243,  1.23409967,  0.99937025,\n",
       "        1.74085136,  1.90129737,  1.24641265,  1.32489878,  1.58308867,\n",
       "        1.45468392,  1.69476957,  1.14262724,  2.10480626,  0.86174859,\n",
       "        1.49043652,  1.49936562,  2.1214858 ,  1.46269986,  2.0048089 ,\n",
       "        1.33326424,  1.19632101,  2.05335572,  1.88891279,  1.01626642,\n",
       "        0.94476146,  2.01563468,  0.87201344,  1.75692792,  0.92441392,\n",
       "        1.31274784,  1.70469374,  1.69302249,  1.04672388,  1.73787366,\n",
       "        1.9768148 ,  1.25102637,  1.62055133,  1.29259187,  1.2954814 ,\n",
       "        1.51735854,  1.95418422,  1.37415827,  1.06921787,  1.43005528,\n",
       "        0.90917901,  1.97741227,  1.84846632,  0.86803689,  1.81573054,\n",
       "        1.65895687,  1.86594096,  0.90587548,  2.03241365,  1.7972607 ,\n",
       "        1.10973333,  1.61082851,  0.86578326,  1.80580695,  1.88029066,\n",
       "        1.34060214,  2.04857476,  2.1360677 ,  0.92915122,  1.14481942,\n",
       "        1.10115446,  1.73950926,  1.57479976,  1.69170611,  1.70725037,\n",
       "        0.97612398,  0.82421522,  1.8352197 ,  0.91806821,  1.80054467,\n",
       "        0.84810412,  1.96793045,  1.84660136,  1.21556358,  1.86058024,\n",
       "        1.16342681,  2.02999484,  1.81420469,  0.95757952,  0.82706479,\n",
       "        2.08567134,  1.53019372,  0.803026  ,  1.20052012,  0.94117431,\n",
       "        0.81906315,  1.54762063,  1.77546175,  0.83163073,  1.7654561 ,\n",
       "        1.67233343,  1.60531242,  1.8461497 ,  1.56067755,  0.92989665,\n",
       "        1.1563491 ,  1.86251708,  1.1819099 ,  1.18584066,  1.93622232,\n",
       "        1.00297292,  0.85686888,  0.90961782,  1.90163512,  2.05945931,\n",
       "        1.75135584,  1.27903196,  0.82434577,  1.84789377,  2.08264964,\n",
       "        2.09407914,  1.18026206,  1.26658492,  2.11679881,  1.2653355 ,\n",
       "        2.05698365,  0.98231472,  0.91631708,  2.02751949,  1.92316931,\n",
       "        0.89082117,  1.4539243 ,  1.31579995,  1.14512902,  1.42808301,\n",
       "        1.13698994,  2.01944116,  1.61620627,  1.18676549,  1.64444711,\n",
       "        1.78057007,  1.89512419,  1.16050123,  1.00956868,  0.81829578,\n",
       "        1.21542301,  1.95707476,  1.07229722,  1.18891093,  1.15714468,\n",
       "        1.51608335,  2.18997667,  0.83716421,  1.82322555,  1.74668924,\n",
       "        1.0448831 ,  1.53240924,  1.48191806,  1.68933463,  2.16581944,\n",
       "        1.26892295,  1.35111891,  1.87251619,  2.19744626,  0.83951326,\n",
       "        1.73545176,  0.92299814,  2.06172017,  2.15534399,  2.16712606,\n",
       "        1.11692111,  1.98679451,  1.72576377,  2.19035201,  1.6752251 ,\n",
       "        1.03555283,  1.86605627,  1.16893502,  1.69114302,  1.49736492,\n",
       "        1.51445006,  1.74579627,  1.78730025,  1.58113554,  0.92489206,\n",
       "        1.19086243,  1.5410144 ,  1.29810856,  0.98363286,  2.10442343,\n",
       "        1.87505268,  1.84158259,  2.18273484,  1.92520722,  1.88850326,\n",
       "        0.85407726,  1.70785953,  1.70548237,  1.91849533,  1.34983665,\n",
       "        1.76491547,  2.17751928,  0.96683285,  2.04793438,  0.99830027,\n",
       "        1.39762403,  0.89086283,  1.11890909,  1.07901066,  1.35134107,\n",
       "        1.74858428,  2.09216   ,  1.3533637 ,  0.82994093,  1.66412506,\n",
       "        1.01152016,  1.55266344,  1.45995097,  0.96365779,  2.10712329,\n",
       "        1.60849641,  0.88079885,  1.36755612,  0.90048536,  0.92236545,\n",
       "        1.60137601,  1.08148753,  0.9892475 ,  1.73461087,  1.5908352 ,\n",
       "        1.61324984,  1.76395724,  1.77033613,  1.73862413,  0.94441547,\n",
       "        1.40979409,  2.04202848,  1.49355249,  1.07371057,  1.07659854,\n",
       "        1.72721474,  1.09580957,  1.82212782,  2.10044537,  0.9659978 ,\n",
       "        2.14828672,  1.40450303,  1.83148876,  1.34065507,  1.80958573,\n",
       "        1.30067405,  1.75826633,  1.66074429,  2.1715814 ,  1.66906523,\n",
       "        1.67249749,  0.86578484,  0.80831142,  2.14339898,  1.36176926,\n",
       "        1.19713212,  1.23423038,  1.87126722,  1.3045735 ,  1.81991233,\n",
       "        1.01477397,  1.46655223,  1.70303903,  1.00468944,  1.75028575])"
      ]
     },
     "execution_count": 78,
     "metadata": {},
     "output_type": "execute_result"
    }
   ],
   "source": [
    "y_true"
   ]
  },
  {
   "cell_type": "code",
   "execution_count": 79,
   "metadata": {
    "collapsed": false
   },
   "outputs": [
    {
     "data": {
      "text/plain": [
       "array([ 1.23615054,  1.48968325,  1.34414572,  2.05581758,  1.51382676,\n",
       "        1.69324406,  1.32847338,  1.48968325,  1.70493387,  0.98620084,\n",
       "        1.24994619,  0.82565608,  1.67245905,  1.04714954,  0.99092717,\n",
       "        1.05094367,  1.92909366,  1.10331591,  1.04714954,  1.48968325,\n",
       "        1.94226723,  1.82545365,  1.51382676,  2.01325169,  1.72346833,\n",
       "        1.55130271,  0.90892912,  1.97653944,  2.05809661,  2.09983764,\n",
       "        1.02439721,  1.71064983,  1.95957272,  1.30341099,  1.53124807,\n",
       "        1.92909366,  1.01511096,  1.75766772,  1.23615054,  0.99963305,\n",
       "        1.74082652,  1.90142881,  1.24590185,  1.32323313,  1.58422318,\n",
       "        1.45586814,  1.69324406,  1.14300821,  2.10501462,  0.8613674 ,\n",
       "        1.48968325,  1.49954352,  2.11975593,  1.46613744,  2.00122738,\n",
       "        1.33371891,  1.19506338,  2.05321195,  1.89097864,  1.01511096,\n",
       "        0.94116468,  2.01445029,  0.87258261,  1.75766772,  0.92505173,\n",
       "        1.31271416,  1.70493387,  1.69324406,  1.04714954,  1.74082652,\n",
       "        1.97653944,  1.24994619,  1.62126691,  1.2919462 ,  1.2944633 ,\n",
       "        1.51913689,  1.95405123,  1.36994229,  1.06440689,  1.43169711,\n",
       "        0.90892912,  1.97653944,  1.84425387,  0.86902334,  1.81539072,\n",
       "        1.65965297,  1.86525857,  0.90691233,  2.03291689,  1.79925683,\n",
       "        1.10331591,  1.61525731,  0.86570704,  1.80317821,  1.88439799,\n",
       "        1.3392593 ,  2.05321195,  2.13551005,  0.9284892 ,  1.14548579,\n",
       "        1.10331591,  1.74082652,  1.57984708,  1.69324406,  1.70886639,\n",
       "        0.97691633,  0.82565608,  1.83529591,  0.92358661,  1.79925683,\n",
       "        0.84693684,  1.96773618,  1.84425387,  1.21464968,  1.86363016,\n",
       "        1.16341326,  2.0276153 ,  1.81470771,  0.95676086,  0.82824804,\n",
       "        2.08604828,  1.53124807,  0.8033859 ,  1.20361116,  0.94116468,\n",
       "        0.8188416 ,  1.54904136,  1.77939841,  0.83153976,  1.76459765,\n",
       "        1.67245905,  1.60460961,  1.84425387,  1.56568846,  0.9284892 ,\n",
       "        1.15739693,  1.86363016,  1.18063979,  1.18469382,  1.94226723,\n",
       "        1.00168492,  0.8613674 ,  0.90892912,  1.90142881,  2.05809661,\n",
       "        1.75207236,  1.27876693,  0.82565608,  1.84425387,  2.08424445,\n",
       "        2.09387662,  1.18063979,  1.26591185,  2.11717306,  1.26591185,\n",
       "        2.05809661,  0.98115927,  0.92358661,  2.0276153 ,  1.92301418,\n",
       "        0.89097182,  1.45586814,  1.316921  ,  1.14548579,  1.42758368,\n",
       "        1.13857164,  2.02380551,  1.61525731,  1.18469382,  1.64408408,\n",
       "        1.77939841,  1.89431405,  1.16147458,  1.01071924,  0.81816435,\n",
       "        1.21464968,  1.95848308,  1.07646978,  1.19205214,  1.15739693,\n",
       "        1.51382676,  2.18903453,  0.83479268,  1.82211977,  1.74595827,\n",
       "        1.04714954,  1.53124807,  1.48380328,  1.6860006 ,  2.16713038,\n",
       "        1.27126237,  1.35125172,  1.8736801 ,  2.19895554,  0.8431025 ,\n",
       "        1.73314676,  0.92358661,  2.06416143,  2.15598212,  2.16713038,\n",
       "        1.11768911,  1.98402541,  1.72346833,  2.18903453,  1.67356187,\n",
       "        1.03808021,  1.86525857,  1.17062761,  1.69324406,  1.49844477,\n",
       "        1.51382676,  1.74595827,  1.77939841,  1.5817097 ,  0.92505173,\n",
       "        1.19205214,  1.54201438,  1.2944633 ,  0.98115927,  2.10501462,\n",
       "        1.87468328,  1.84218425,  2.1829415 ,  1.92663589,  1.89097864,\n",
       "        0.84693684,  1.70886639,  1.70493387,  1.91921817,  1.34934305,\n",
       "        1.76459765,  2.17836018,  0.96630106,  2.05321195,  0.99963305,\n",
       "        1.4000663 ,  0.89097182,  1.11983982,  1.07860003,  1.35125172,\n",
       "        1.74926128,  2.09217869,  1.35125172,  0.8307114 ,  1.66069813,\n",
       "        1.01151746,  1.55130271,  1.45586814,  0.96226291,  2.10686538,\n",
       "        1.60460961,  0.87728154,  1.36917356,  0.8999189 ,  0.92358661,\n",
       "        1.60081469,  1.08434207,  0.98938666,  1.73314676,  1.58947679,\n",
       "        1.61525731,  1.76459765,  1.77068355,  1.74082652,  0.94116468,\n",
       "        1.40865191,  2.03644224,  1.48968325,  1.07646978,  1.07646978,\n",
       "        1.72346833,  1.09558889,  1.82211977,  2.09983764,  0.96630106,\n",
       "        2.1503801 ,  1.40213475,  1.82898572,  1.3392593 ,  1.8085778 ,\n",
       "        1.30209835,  1.75766772,  1.66069813,  2.16975335,  1.67245905,\n",
       "        1.67245905,  0.86570704,  0.80631932,  2.1403346 ,  1.36354129,\n",
       "        1.19506338,  1.23615054,  1.87025625,  1.30341099,  1.82124808,\n",
       "        1.01511096,  1.46613744,  1.70493387,  1.00753516,  1.74926128])"
      ]
     },
     "execution_count": 79,
     "metadata": {},
     "output_type": "execute_result"
    }
   ],
   "source": [
    "rfy_pred"
   ]
  },
  {
   "cell_type": "markdown",
   "metadata": {},
   "source": [
    "SVM Regression"
   ]
  },
  {
   "cell_type": "code",
   "execution_count": 14,
   "metadata": {
    "collapsed": true
   },
   "outputs": [],
   "source": [
    "from sklearn import svm\n",
    "clf = svm.SVR(kernel='linear')\n",
    "clf.fit(X_train, y_train)\n",
    "clf_pred = clf.predict(X_test)"
   ]
  },
  {
   "cell_type": "code",
   "execution_count": 15,
   "metadata": {
    "collapsed": false
   },
   "outputs": [
    {
     "name": "stdout",
     "output_type": "stream",
     "text": [
      "explained varience score:  0.98262403216\n",
      "mean absolute error:  0.0642864386265\n",
      "mean squared error:  0.00499662747771\n",
      "r2_score:  0.970088663714\n"
     ]
    }
   ],
   "source": [
    "print \"explained varience score: \", metrics.explained_variance_score(y_true, clf_pred)\n",
    "print \"mean absolute error: \", metrics.mean_absolute_error(y_true, clf_pred)\n",
    "print \"mean squared error: \", metrics.mean_squared_error(y_true, clf_pred)\n",
    "print \"r2_score: \", metrics.r2_score(y_true, clf_pred)"
   ]
  },
  {
   "cell_type": "markdown",
   "metadata": {},
   "source": [
    "K-Nearest Neighbour"
   ]
  },
  {
   "cell_type": "code",
   "execution_count": 16,
   "metadata": {
    "collapsed": true
   },
   "outputs": [],
   "source": [
    "from sklearn import neighbors\n",
    "knn = neighbors.KNeighborsRegressor(n_neighbors = 2, weights = \"distance\")\n",
    "knn.fit(X_train, y_train)\n",
    "knn_pred = knn.predict(X_test)"
   ]
  },
  {
   "cell_type": "code",
   "execution_count": 17,
   "metadata": {
    "collapsed": false
   },
   "outputs": [
    {
     "name": "stdout",
     "output_type": "stream",
     "text": [
      "explained varience score:  0.999992076815\n",
      "mean absolute error:  0.000686893217966\n",
      "mean squared error:  1.32756912614e-06\n",
      "r2_score:  0.999992052766\n"
     ]
    }
   ],
   "source": [
    "print \"explained varience score: \", metrics.explained_variance_score(y_true, knn_pred)\n",
    "print \"mean absolute error: \", metrics.mean_absolute_error(y_true, knn_pred)\n",
    "print \"mean squared error: \", metrics.mean_squared_error(y_true, knn_pred)\n",
    "print \"r2_score: \", metrics.r2_score(y_true, knn_pred)"
   ]
  },
  {
   "cell_type": "code",
   "execution_count": 18,
   "metadata": {
    "collapsed": false
   },
   "outputs": [
    {
     "data": {
      "text/plain": [
       "array([ 1.23619263,  1.49063219,  1.34503445,  2.05652219,  1.51623706,\n",
       "        1.69612949,  1.32705276,  1.49273619,  1.70321306,  0.98602031,\n",
       "        1.24979224,  0.82410872,  1.67093644,  1.04673863,  0.99230057,\n",
       "        1.05078121,  1.92904822,  1.10804757,  1.04873514,  1.49198367,\n",
       "        1.93868248,  1.82556985,  1.51653531,  2.0106038 ,  1.72731567,\n",
       "        1.55330134,  0.91109767,  1.97584359,  2.05885839,  2.1000698 ,\n",
       "        1.02365816,  1.71064987,  1.96202362,  1.30325242,  1.53231044,\n",
       "        1.93217243,  1.01458809,  1.75537243,  1.23409967,  0.99937025,\n",
       "        1.74085136,  1.90129737,  1.24641265,  1.32489878,  1.58308867,\n",
       "        1.45468392,  1.69476957,  1.14262724,  2.10480626,  0.86174859,\n",
       "        1.49043652,  1.49936562,  2.1214858 ,  1.46269986,  2.0048089 ,\n",
       "        1.33326424,  1.19632101,  2.05335572,  1.88891279,  1.01626642,\n",
       "        0.94476146,  2.01563468,  0.87201344,  1.75692792,  0.92441392,\n",
       "        1.31274784,  1.70469374,  1.69302249,  1.04672388,  1.73787366,\n",
       "        1.9768148 ,  1.25102637,  1.62055133,  1.29259187,  1.2954814 ,\n",
       "        1.51735854,  1.95418422,  1.37415827,  1.06921787,  1.43005528,\n",
       "        0.90917901,  1.97741227,  1.84846632,  0.86803689,  1.81573054,\n",
       "        1.65895687,  1.86594096,  0.90587548,  2.03241365,  1.7972607 ,\n",
       "        1.10973333,  1.61082851,  0.86578326,  1.80580695,  1.88029066,\n",
       "        1.34060214,  2.04857476,  2.1360677 ,  0.92915122,  1.14481942,\n",
       "        1.10115446,  1.73950926,  1.57479976,  1.69170611,  1.70725037,\n",
       "        0.97612398,  0.82421522,  1.8352197 ,  0.91806821,  1.80054467,\n",
       "        0.84810412,  1.96793045,  1.84660136,  1.21556358,  1.86058024,\n",
       "        1.16342681,  2.02999484,  1.81420469,  0.95757952,  0.82706479,\n",
       "        2.08567134,  1.53019372,  0.803026  ,  1.20052012,  0.94117431,\n",
       "        0.81906315,  1.54762063,  1.77546175,  0.83163073,  1.7654561 ,\n",
       "        1.67233343,  1.60531242,  1.8461497 ,  1.56067755,  0.92989665,\n",
       "        1.1563491 ,  1.86251708,  1.1819099 ,  1.18584066,  1.93622232,\n",
       "        1.00297292,  0.85686888,  0.90961782,  1.90163512,  2.05945931,\n",
       "        1.75135584,  1.27903196,  0.82434577,  1.84789377,  2.08264964,\n",
       "        2.09407914,  1.18026206,  1.26658492,  2.11679881,  1.2653355 ,\n",
       "        2.05698365,  0.98231472,  0.91631708,  2.02751949,  1.92316931,\n",
       "        0.89082117,  1.4539243 ,  1.31579995,  1.14512902,  1.42808301,\n",
       "        1.13698994,  2.01944116,  1.61620627,  1.18676549,  1.64444711,\n",
       "        1.78057007,  1.89512419,  1.16050123,  1.00956868,  0.81829578,\n",
       "        1.21542301,  1.95707476,  1.07229722,  1.18891093,  1.15714468,\n",
       "        1.51608335,  2.18997667,  0.83716421,  1.82322555,  1.74668924,\n",
       "        1.0448831 ,  1.53240924,  1.48191806,  1.68933463,  2.16581944,\n",
       "        1.26892295,  1.35111891,  1.87251619,  2.19744626,  0.83951326,\n",
       "        1.73545176,  0.92299814,  2.06172017,  2.15534399,  2.16712606,\n",
       "        1.11692111,  1.98679451,  1.72576377,  2.19035201,  1.6752251 ,\n",
       "        1.03555283,  1.86605627,  1.16893502,  1.69114302,  1.49736492,\n",
       "        1.51445006,  1.74579627,  1.78730025,  1.58113554,  0.92489206,\n",
       "        1.19086243,  1.5410144 ,  1.29810856,  0.98363286,  2.10442343,\n",
       "        1.87505268,  1.84158259,  2.18273484,  1.92520722,  1.88850326,\n",
       "        0.85407726,  1.70785953,  1.70548237,  1.91849533,  1.34983665,\n",
       "        1.76491547,  2.17751928,  0.96683285,  2.04793438,  0.99830027,\n",
       "        1.39762403,  0.89086283,  1.11890909,  1.07901066,  1.35134107,\n",
       "        1.74858428,  2.09216   ,  1.3533637 ,  0.82994093,  1.66412506,\n",
       "        1.01152016,  1.55266344,  1.45995097,  0.96365779,  2.10712329,\n",
       "        1.60849641,  0.88079885,  1.36755612,  0.90048536,  0.92236545,\n",
       "        1.60137601,  1.08148753,  0.9892475 ,  1.73461087,  1.5908352 ,\n",
       "        1.61324984,  1.76395724,  1.77033613,  1.73862413,  0.94441547,\n",
       "        1.40979409,  2.04202848,  1.49355249,  1.07371057,  1.07659854,\n",
       "        1.72721474,  1.09580957,  1.82212782,  2.10044537,  0.9659978 ,\n",
       "        2.14828672,  1.40450303,  1.83148876,  1.34065507,  1.80958573,\n",
       "        1.30067405,  1.75826633,  1.66074429,  2.1715814 ,  1.66906523,\n",
       "        1.67249749,  0.86578484,  0.80831142,  2.14339898,  1.36176926,\n",
       "        1.19713212,  1.23423038,  1.87126722,  1.3045735 ,  1.81991233,\n",
       "        1.01477397,  1.46655223,  1.70303903,  1.00468944,  1.75028575])"
      ]
     },
     "execution_count": 18,
     "metadata": {},
     "output_type": "execute_result"
    }
   ],
   "source": [
    "y_true"
   ]
  },
  {
   "cell_type": "code",
   "execution_count": 19,
   "metadata": {
    "collapsed": false
   },
   "outputs": [
    {
     "data": {
      "text/plain": [
       "array([ 1.23619264,  1.48909226,  1.3450348 ,  2.05652242,  1.51402961,\n",
       "        1.69494522,  1.32669462,  1.49274037,  1.70486344,  0.9863552 ,\n",
       "        1.24979235,  0.82411007,  1.67286392,  1.04746506,  0.99043388,\n",
       "        1.05078125,  1.92904824,  1.10805028,  1.04873576,  1.48875082,\n",
       "        1.94079823,  1.82556988,  1.51653684,  2.01343184,  1.72381556,\n",
       "        1.5534722 ,  0.91048711,  1.9758436 ,  2.05805681,  2.10006993,\n",
       "        1.02389782,  1.71064993,  1.95951821,  1.30325246,  1.53231077,\n",
       "        1.92839418,  1.0150804 ,  1.7553732 ,  1.23605117,  0.99984241,\n",
       "        1.74080866,  1.90152741,  1.24641277,  1.32590657,  1.58308906,\n",
       "        1.45586786,  1.69476977,  1.14262751,  2.10482462,  0.86174882,\n",
       "        1.48917461,  1.49936565,  2.12148597,  1.46270139,  2.00480901,\n",
       "        1.33326429,  1.1951054 ,  2.05335579,  1.89048928,  1.01626681,\n",
       "        0.94239456,  2.01563481,  0.87201362,  1.75692843,  0.92441414,\n",
       "        1.3126822 ,  1.70483967,  1.69318805,  1.04747367,  1.7407617 ,\n",
       "        1.97638542,  1.25102748,  1.62108548,  1.29169275,  1.29458059,\n",
       "        1.51735995,  1.95418435,  1.3705804 ,  1.06842347,  1.43005632,\n",
       "        0.90917917,  1.97741235,  1.84846809,  0.86884488,  1.8152204 ,\n",
       "        1.65994405,  1.86492272,  0.90742386,  2.03313558,  1.79620408,\n",
       "        1.11127701,  1.6108295 ,  0.86564401,  1.80428139,  1.87750095,\n",
       "        1.33943287,  2.04857741,  2.13606794,  0.92849977,  1.14543318,\n",
       "        1.10115477,  1.74075989,  1.57713678,  1.69209785,  1.70884539,\n",
       "        0.9761245 ,  0.82421655,  1.8352197 ,  0.91806835,  1.80054543,\n",
       "        0.84707956,  1.96793053,  1.84449588,  1.21424303,  1.8605804 ,\n",
       "        1.1633999 ,  2.02999515,  1.81491114,  0.95674021,  0.82622754,\n",
       "        2.08567145,  1.52955494,  0.8035861 ,  1.20052023,  0.94117431,\n",
       "        0.8187077 ,  1.54840562,  1.77546594,  0.83163076,  1.76475661,\n",
       "        1.67256139,  1.60460043,  1.84450154,  1.56068096,  0.92989703,\n",
       "        1.15634915,  1.86299744,  1.18191012,  1.1851489 ,  1.94094609,\n",
       "        1.00297322,  0.85859637,  0.90961815,  1.90163515,  2.05805587,\n",
       "        1.75207193,  1.27868834,  0.82588046,  1.8478957 ,  2.08482071,\n",
       "        2.09378323,  1.18026209,  1.26658496,  2.11705942,  1.26576956,\n",
       "        2.05805297,  0.98222521,  0.91691132,  2.02751951,  1.92292022,\n",
       "        0.89082121,  1.45586797,  1.31730692,  1.14542931,  1.42726616,\n",
       "        1.13856708,  2.01944229,  1.61527397,  1.18676635,  1.64444712,\n",
       "        1.78050791,  1.8951242 ,  1.16196047,  1.01101562,  0.81829582,\n",
       "        1.21427347,  1.95850267,  1.07230195,  1.18891096,  1.15714477,\n",
       "        1.51402991,  2.18856061,  0.83716628,  1.82187549,  1.74668926,\n",
       "        1.04488505,  1.53240957,  1.48298427,  1.6893366 ,  2.16721616,\n",
       "        1.26892413,  1.35111897,  1.87403068,  2.19892125,  0.83951367,\n",
       "        1.7354545 ,  0.92391309,  2.06172203,  2.15534426,  2.16712609,\n",
       "        1.11796024,  1.98679572,  1.72383812,  2.19035273,  1.67417924,\n",
       "        1.03814487,  1.86489699,  1.16992876,  1.69227415,  1.49838277,\n",
       "        1.51404635,  1.74607815,  1.78742325,  1.58113572,  0.92489214,\n",
       "        1.19188552,  1.54178835,  1.29753763,  0.98192804,  2.10494766,\n",
       "        1.87505271,  1.84220112,  2.1827349 ,  1.92684425,  1.89050773,\n",
       "        0.85868683,  1.70883269,  1.70487364,  1.91957851,  1.34916778,\n",
       "        1.76487965,  2.17889466,  0.96683306,  2.04793668,  1.00021307,\n",
       "        1.40031611,  0.89086284,  1.11890921,  1.07848838,  1.35117006,\n",
       "        1.74929819,  2.09216   ,  1.35336575,  0.83067088,  1.66116336,\n",
       "        1.01151478,  1.55266367,  1.45978646,  0.96365924,  2.1071233 ,\n",
       "        1.60849766,  0.88080551,  1.3675569 ,  0.90048567,  0.92236659,\n",
       "        1.60130981,  1.08148815,  0.98924755,  1.73461288,  1.58932249,\n",
       "        1.61524944,  1.76466338,  1.77033634,  1.74076122,  0.94243282,\n",
       "        1.40979412,  2.04203135,  1.49355702,  1.07633969,  1.07659854,\n",
       "        1.7238164 ,  1.09547725,  1.82211192,  2.10044564,  0.96652209,\n",
       "        2.14997101,  1.40413336,  1.83149051,  1.33943202,  1.80958594,\n",
       "        1.30175194,  1.75826677,  1.66068303,  2.17158145,  1.67293346,\n",
       "        1.6724975 ,  0.86564295,  0.8083139 ,  2.13958274,  1.36175233,\n",
       "        1.19508893,  1.23604956,  1.86999799,  1.30304725,  1.82071875,\n",
       "        1.01506355,  1.46655237,  1.70486371,  1.00469062,  1.74954487])"
      ]
     },
     "execution_count": 19,
     "metadata": {},
     "output_type": "execute_result"
    }
   ],
   "source": [
    "knn_pred"
   ]
  },
  {
   "cell_type": "code",
   "execution_count": 20,
   "metadata": {
    "collapsed": false
   },
   "outputs": [
    {
     "data": {
      "text/plain": [
       "<matplotlib.collections.PathCollection at 0xa9fa8a4c>"
      ]
     },
     "execution_count": 20,
     "metadata": {},
     "output_type": "execute_result"
    },
    {
     "data": {
      "image/png": "[encoded data removed]",
      "text/plain": [
       "<matplotlib.figure.Figure at 0xa9f745ac>"
      ]
     },
     "metadata": {},
     "output_type": "display_data"
    }
   ],
   "source": [
    "%matplotlib inline\n",
    "plt.scatter(y_true, knn_pred)"
   ]
  },
  {
   "cell_type": "markdown",
   "metadata": {
    "collapsed": true
   },
   "source": [
    "# BallCylinder \n",
    "\n",
    "Predicts Paramaeters:\n",
    "\n",
    "Intra axonal diffusivity (Cylinder)\n",
    "Intra axonal axon radius (single) (Cylinder)\n",
    "Extra axonal diffusivity (Ball)"
   ]
  },
  {
   "cell_type": "code",
   "execution_count": 17,
   "metadata": {
    "collapsed": false
   },
   "outputs": [
    {
     "name": "stderr",
     "output_type": "stream",
     "text": [
      "100% |########################################################################|\n"
     ]
    }
   ],
   "source": [
    "model3 = { 1: ['CylinderGPD', [0.0, 1.0], [0.8E-9, 2.2E-9], [0.0, 0.0], 1.5E-9, 2.5E-9], 2: ['Ball', [0.8E-9, 2.2E-9]]}\n",
    "\n",
    "groundTruths3 = genData(model3, \"PGSE_90.scheme\", \"./exp3/BallCylinder\", 1000, [\"BallCylinderVolumeFraction\", \"intraD\", \"extraD\", \"axonr\"])"
   ]
  },
  {
   "cell_type": "code",
   "execution_count": 18,
   "metadata": {
    "collapsed": false
   },
   "outputs": [
    {
     "name": "stderr",
     "output_type": "stream",
     "text": [
      "/home/danish/anaconda2/lib/python2.7/site-packages/numpy/core/numeric.py:301: FutureWarning: in the future, full([1000, 360], 0) will return an array of dtype('int32')\n",
      "  format(shape, fill_value, array(fill_value).dtype), FutureWarning)\n"
     ]
    }
   ],
   "source": [
    "groundTruths3 = pd.read_csv(\"./exp3/BallCylinder_GroundTruths.csv\", index_col = 0)\n",
    "data3 = transformData(\"./exp3\")\n",
    "y3 = groundTruths3.values"
   ]
  },
  {
   "cell_type": "code",
   "execution_count": 19,
   "metadata": {
    "collapsed": true
   },
   "outputs": [],
   "source": [
    "#we can use the standard scaler implementation in sklearn to scale the ground-truth valuse before training\n",
    "y3 = preprocessing.scale(y3)"
   ]
  },
  {
   "cell_type": "code",
   "execution_count": 20,
   "metadata": {
    "collapsed": true
   },
   "outputs": [],
   "source": [
    "np.random.seed(0)\n",
    "indices = np.random.permutation(len(data3))\n",
    "num = int(len(data3)*0.7)\n",
    "X_train3 = data3[indices[:num]]\n",
    "y_train3 = y3[indices[:num]]\n",
    "X_test3  = data3[indices[num:]]\n",
    "y_true3  = y3[indices[num:]]"
   ]
  },
  {
   "cell_type": "markdown",
   "metadata": {},
   "source": [
    "Ridge Regression"
   ]
  },
  {
   "cell_type": "code",
   "execution_count": 21,
   "metadata": {
    "collapsed": true
   },
   "outputs": [],
   "source": [
    "reg3 = linear_model.RidgeCV()\n",
    "reg3.fit(X_train3, y_train3)\n",
    "y_pred3 = reg3.predict(X_test3)"
   ]
  },
  {
   "cell_type": "code",
   "execution_count": 22,
   "metadata": {
    "collapsed": false
   },
   "outputs": [
    {
     "name": "stdout",
     "output_type": "stream",
     "text": [
      "explained varience score:  0.836261713005\n",
      "r2_score:  0.835884444012\n"
     ]
    }
   ],
   "source": [
    "print \"explained varience score: \", metrics.explained_variance_score(y_true3, y_pred3, multioutput='variance_weighted')\n",
    "print \"r2_score: \", metrics.r2_score(y_true3, y_pred3, multioutput='variance_weighted')"
   ]
  },
  {
   "cell_type": "markdown",
   "metadata": {},
   "source": [
    "K-Nearest Neighbours"
   ]
  },
  {
   "cell_type": "code",
   "execution_count": 23,
   "metadata": {
    "collapsed": true
   },
   "outputs": [],
   "source": [
    "from sklearn import neighbors\n",
    "knn3 = neighbors.KNeighborsRegressor(n_neighbors = 2, weights = \"distance\")\n",
    "knn3.fit(X_train3, y_train3)\n",
    "knn_pred3 = knn3.predict(X_test3)"
   ]
  },
  {
   "cell_type": "code",
   "execution_count": 24,
   "metadata": {
    "collapsed": false
   },
   "outputs": [
    {
     "name": "stdout",
     "output_type": "stream",
     "text": [
      "explained varience score:  0.863667009051\n",
      "r2_score:  0.863123115207\n"
     ]
    }
   ],
   "source": [
    "print \"explained varience score: \", metrics.explained_variance_score(y_true3, knn_pred3, multioutput='variance_weighted')\n",
    "print \"r2_score: \", metrics.r2_score(y_true3, knn_pred3, multioutput='variance_weighted')"
   ]
  },
  {
   "cell_type": "markdown",
   "metadata": {},
   "source": [
    "Below we use a grid search with three fold cross validation to find optimal parameters for the learning algorithm.\n",
    "The parameters selected are those that maximise the r2 score."
   ]
  },
  {
   "cell_type": "code",
   "execution_count": 33,
   "metadata": {
    "collapsed": false
   },
   "outputs": [
    {
     "name": "stdout",
     "output_type": "stream",
     "text": [
      "Fitting 3 folds for each of 10 candidates, totalling 30 fits\n",
      "\n",
      "Best Params:  {'n_neighbors': 4, 'weights': 'distance'}\n"
     ]
    },
    {
     "name": "stderr",
     "output_type": "stream",
     "text": [
      "[Parallel(n_jobs=1)]: Done  30 out of  30 | elapsed:    4.1s finished\n"
     ]
    }
   ],
   "source": [
    "from sklearn.model_selection import GridSearchCV\n",
    "from sklearn.metrics import make_scorer\n",
    "grid_parameters = {'n_neighbors':[2,3,4,5,10], 'weights':(\"uniform\", \"distance\")}\n",
    "scorer = make_scorer(metrics.r2_score, multioutput=\"variance_weighted\")\n",
    "knn3_grid = GridSearchCV(neighbors.KNeighborsRegressor(), grid_parameters, scoring=scorer, verbose=1)\n",
    "knn3_grid.fit(X_train3, y_train3)\n",
    "print \"\\nBest Params: \", knn3_grid.best_params_ \n",
    "knn3_grid_pred = knn3_grid.predict(X_test3)"
   ]
  },
  {
   "cell_type": "markdown",
   "metadata": {},
   "source": [
    "Fitting 3 folds for each of 10 candidates, totalling 30 fits\n",
    "\n",
    "Best Params:  {'n_neighbors': 5, 'weights': 'distance'}"
   ]
  },
  {
   "cell_type": "code",
   "execution_count": 34,
   "metadata": {
    "collapsed": false
   },
   "outputs": [
    {
     "name": "stdout",
     "output_type": "stream",
     "text": [
      "explained varience score:  0.882791098559\n",
      "r2_score:  0.882749133671\n"
     ]
    }
   ],
   "source": [
    "print \"explained varience score: \", metrics.explained_variance_score(y_true3, knn3_grid_pred, multioutput='variance_weighted')\n",
    "print \"r2_score: \", metrics.r2_score(y_true3, knn3_grid_pred, multioutput='variance_weighted')"
   ]
  },
  {
   "cell_type": "markdown",
   "metadata": {},
   "source": [
    "Random Forest"
   ]
  },
  {
   "cell_type": "markdown",
   "metadata": {},
   "source": [
    "With grid search and 3-fold cross validation"
   ]
  },
  {
   "cell_type": "code",
   "execution_count": 35,
   "metadata": {
    "collapsed": false
   },
   "outputs": [
    {
     "name": "stdout",
     "output_type": "stream",
     "text": [
      "Fitting 3 folds for each of 15 candidates, totalling 45 fits\n"
     ]
    },
    {
     "name": "stderr",
     "output_type": "stream",
     "text": [
      "[Parallel(n_jobs=1)]: Done  45 out of  45 | elapsed:  3.6min finished\n"
     ]
    }
   ],
   "source": [
    "grid_parameters = {'n_estimators':[5,10,25,50,100], 'max_depth':[20,50,100]}\n",
    "rfReg = RandomForestRegressor()\n",
    "rfReg3_grid = GridSearchCV(rfReg, grid_parameters, scoring=scorer, verbose=1)\n",
    "rfReg3_grid.fit(X_train3, y_train3)\n",
    "rfReg3_grid_pred = rfReg3_grid.predict(X_test3)"
   ]
  },
  {
   "cell_type": "markdown",
   "metadata": {},
   "source": [
    "Fitting 3 folds for each of 15 candidates, totalling 45 fits"
   ]
  },
  {
   "cell_type": "code",
   "execution_count": 36,
   "metadata": {
    "collapsed": false
   },
   "outputs": [
    {
     "name": "stdout",
     "output_type": "stream",
     "text": [
      "\n",
      "Best Params:  {'n_neighbors': 4, 'weights': 'distance'}\n",
      "explained varience score:  0.900839228558\n",
      "r2_score:  0.900786900273\n",
      "r2_score:  0.924527876255\n"
     ]
    }
   ],
   "source": [
    "print \"\\nBest Params: \", knn3_grid.best_params_ \n",
    "print \"explained varience score: \", metrics.explained_variance_score(y_true3, rfReg3_grid_pred, multioutput='variance_weighted')\n",
    "print \"r2_score: \", metrics.r2_score(y_true3, rfReg3_grid_pred, multioutput='variance_weighted') \n",
    "print \"r2_score: \", metrics.r2_score(y_true3, rfReg3_grid_pred, multioutput='uniform_average')"
   ]
  },
  {
   "cell_type": "code",
   "execution_count": 38,
   "metadata": {
    "collapsed": false
   },
   "outputs": [
    {
     "data": {
      "text/plain": [
       "array([[ 0.14665384, -1.31137782,  0.        , -1.14510419],\n",
       "       [-1.22869911,  0.6469339 ,  0.        , -0.75017116],\n",
       "       [-1.32332695,  0.0081436 ,  0.        ,  0.12878993],\n",
       "       ..., \n",
       "       [-1.38858794,  1.08065958,  0.        ,  1.49349335],\n",
       "       [ 1.10579524, -1.38359501,  0.        , -0.11703233],\n",
       "       [ 1.58965966, -1.41449933,  0.        ,  0.65970841]])"
      ]
     },
     "execution_count": 38,
     "metadata": {},
     "output_type": "execute_result"
    }
   ],
   "source": [
    "rfReg3_grid_pred"
   ]
  },
  {
   "cell_type": "code",
   "execution_count": 32,
   "metadata": {
    "collapsed": false
   },
   "outputs": [
    {
     "data": {
      "text/plain": [
       "array([[-0.05272795, -1.25593164,  0.        , -1.44626689],\n",
       "       [-1.21088328,  1.11168023,  0.        , -0.8397196 ],\n",
       "       [-1.38376292, -0.11601903,  0.        ,  0.03084655],\n",
       "       ..., \n",
       "       [-1.38067812,  1.45657334,  0.        ,  1.34367759],\n",
       "       [ 0.95082855, -1.41154162,  0.        , -1.1709922 ],\n",
       "       [ 1.57336801, -1.38778363,  0.        , -1.46883892]])"
      ]
     },
     "execution_count": 32,
     "metadata": {},
     "output_type": "execute_result"
    }
   ],
   "source": [
    "y_true3"
   ]
  },
  {
   "cell_type": "markdown",
   "metadata": {},
   "source": [
    "# TensorCylinder\n",
    "\n",
    "Intra-axonal diffusivity (Cylinder)\n",
    "Intra-axonal radius (Cylinder)\n",
    "Extra-axonal diffusivity in 3 directions (Full Tensor)"
   ]
  },
  {
   "cell_type": "code",
   "execution_count": 45,
   "metadata": {
    "collapsed": false
   },
   "outputs": [
    {
     "name": "stderr",
     "output_type": "stream",
     "text": [
      "100% |########################################################################|\n"
     ]
    }
   ],
   "source": [
    "model4 = { 1: ['CylinderGPD', [0.0, 1.0], [0.8E-9, 2.2E-9], [0.0, 0.0], 1.5E-9, 2.5E-9], 2: ['Tensor', [0.8E-9, 2.2E-9], 0.0, 0.0, [0.8E-9, 2.2E-9], [0.8E-9, 2.2E-9], 0.0]}\n",
    "\n",
    "groundTruths4 = genData(model4, \"PGSE_90.scheme\", \"./exp4/TensorCylinder\", 1000, [\"TensorCylinder\", \"intraD\", \"intraR\", \"extraD1\", \"extraD2\", \"extraD3\"])"
   ]
  },
  {
   "cell_type": "code",
   "execution_count": 47,
   "metadata": {
    "collapsed": true
   },
   "outputs": [],
   "source": [
    "groundTruths4 = pd.read_csv(\"./exp4/TensorCylinder_GroundTruths.csv\", index_col = 0)\n",
    "data4 = transformData(\"./exp4\")\n",
    "y4 = groundTruths4.values * 1E9"
   ]
  },
  {
   "cell_type": "code",
   "execution_count": 48,
   "metadata": {
    "collapsed": true
   },
   "outputs": [],
   "source": [
    "#we can use the standard scaler implementation in sklearn to scale the ground-truth valuse before training\n",
    "y4 = preprocessing.scale(y4)"
   ]
  },
  {
   "cell_type": "code",
   "execution_count": 49,
   "metadata": {
    "collapsed": true
   },
   "outputs": [],
   "source": [
    "np.random.seed(0)\n",
    "indices = np.random.permutation(len(data4))\n",
    "num = int(len(data4)*0.7)\n",
    "X_train4 = data4[indices[:num]]\n",
    "y_train4 = y4[indices[:num]]\n",
    "X_test4  = data4[indices[num:]]\n",
    "y_true4  = y4[indices[num:]]"
   ]
  },
  {
   "cell_type": "markdown",
   "metadata": {},
   "source": [
    "Ridge Regression"
   ]
  },
  {
   "cell_type": "code",
   "execution_count": 50,
   "metadata": {
    "collapsed": true
   },
   "outputs": [],
   "source": [
    "reg4 = linear_model.RidgeCV()\n",
    "reg4.fit(X_train4, y_train4)\n",
    "y_pred4 = reg4.predict(X_test4)"
   ]
  },
  {
   "cell_type": "code",
   "execution_count": 51,
   "metadata": {
    "collapsed": false
   },
   "outputs": [
    {
     "name": "stdout",
     "output_type": "stream",
     "text": [
      "explained varience score:  0.796607081024\n",
      "r2_score:  0.795123781296\n"
     ]
    }
   ],
   "source": [
    "print \"explained varience score: \", metrics.explained_variance_score(y_true4, y_pred4, multioutput='variance_weighted')\n",
    "print \"r2_score: \", metrics.r2_score(y_true4, y_pred4, multioutput='variance_weighted')"
   ]
  },
  {
   "cell_type": "markdown",
   "metadata": {},
   "source": [
    "K-Nearest Neighbours"
   ]
  },
  {
   "cell_type": "code",
   "execution_count": 52,
   "metadata": {
    "collapsed": true
   },
   "outputs": [],
   "source": [
    "from sklearn import neighbors\n",
    "knn4 = neighbors.KNeighborsRegressor(n_neighbors = 2, weights = \"distance\")\n",
    "knn4.fit(X_train4, y_train4)\n",
    "knn_pred4 = knn4.predict(X_test4)"
   ]
  },
  {
   "cell_type": "code",
   "execution_count": 53,
   "metadata": {
    "collapsed": false
   },
   "outputs": [
    {
     "name": "stdout",
     "output_type": "stream",
     "text": [
      "explained varience score:  0.667230724627\n",
      "r2_score:  0.662742213965\n"
     ]
    }
   ],
   "source": [
    "print \"explained varience score: \", metrics.explained_variance_score(y_true4, knn_pred4, multioutput='variance_weighted')\n",
    "print \"r2_score: \", metrics.r2_score(y_true4, knn_pred4, multioutput='variance_weighted')"
   ]
  },
  {
   "cell_type": "code",
   "execution_count": 54,
   "metadata": {
    "collapsed": false
   },
   "outputs": [
    {
     "name": "stdout",
     "output_type": "stream",
     "text": [
      "Fitting 3 folds for each of 10 candidates, totalling 30 fits\n",
      "\n",
      "Best Params:  {'n_neighbors': 5, 'weights': 'distance'}\n"
     ]
    },
    {
     "name": "stderr",
     "output_type": "stream",
     "text": [
      "[Parallel(n_jobs=1)]: Done  30 out of  30 | elapsed:    7.3s finished\n"
     ]
    }
   ],
   "source": [
    "from sklearn.model_selection import GridSearchCV\n",
    "from sklearn.metrics import make_scorer\n",
    "grid_parameters = {'n_neighbors':[2,3,4,5,10], 'weights':(\"uniform\", \"distance\")}\n",
    "scorer = make_scorer(metrics.r2_score, multioutput=\"variance_weighted\")\n",
    "knn4_grid = GridSearchCV(neighbors.KNeighborsRegressor(), grid_parameters, scoring=scorer, verbose=1)\n",
    "knn4_grid.fit(X_train4, y_train4)\n",
    "print \"\\nBest Params: \", knn4_grid.best_params_ \n",
    "knn4_grid_pred = knn4_grid.predict(X_test4)"
   ]
  },
  {
   "cell_type": "code",
   "execution_count": 55,
   "metadata": {
    "collapsed": false
   },
   "outputs": [
    {
     "name": "stdout",
     "output_type": "stream",
     "text": [
      "explained varience score:  0.684636881739\n",
      "r2_score:  0.680396830446\n"
     ]
    }
   ],
   "source": [
    "print \"explained varience score: \", metrics.explained_variance_score(y_true4, knn4_grid_pred, multioutput='variance_weighted')\n",
    "print \"r2_score: \", metrics.r2_score(y_true4, knn4_grid_pred, multioutput='variance_weighted')"
   ]
  },
  {
   "cell_type": "markdown",
   "metadata": {},
   "source": [
    "Random Forest\n"
   ]
  },
  {
   "cell_type": "code",
   "execution_count": 56,
   "metadata": {
    "collapsed": false
   },
   "outputs": [
    {
     "name": "stdout",
     "output_type": "stream",
     "text": [
      "Fitting 3 folds for each of 15 candidates, totalling 45 fits\n"
     ]
    },
    {
     "name": "stderr",
     "output_type": "stream",
     "text": [
      "[Parallel(n_jobs=1)]: Done  45 out of  45 | elapsed:  5.8min finished\n"
     ]
    }
   ],
   "source": [
    "grid_parameters = {'n_estimators':[5,10,25,50,100], 'max_depth':[20,50,100]}\n",
    "rfReg = RandomForestRegressor()\n",
    "rfReg4_grid = GridSearchCV(rfReg, grid_parameters, scoring=scorer, verbose=1)\n",
    "rfReg4_grid.fit(X_train4, y_train4)\n",
    "rfReg4_grid_pred = rfReg4_grid.predict(X_test4)"
   ]
  },
  {
   "cell_type": "code",
   "execution_count": 57,
   "metadata": {
    "collapsed": false
   },
   "outputs": [
    {
     "name": "stdout",
     "output_type": "stream",
     "text": [
      "\n",
      "Best Params:  {'n_neighbors': 5, 'weights': 'distance'}\n",
      "explained varience score:  0.687382567317\n",
      "mean absolute error:  0.328299681807\n",
      "mean squared error:  0.26164370431\n",
      "r2_score:  0.685805352585\n",
      "r2_score:  0.741913363248\n"
     ]
    }
   ],
   "source": [
    "print \"\\nBest Params: \", knn4_grid.best_params_ \n",
    "print \"explained varience score: \", metrics.explained_variance_score(y_true4, rfReg4_grid_pred, multioutput='variance_weighted')\n",
    "print \"mean absolute error: \", metrics.mean_absolute_error(y_true4, rfReg4_grid_pred)\n",
    "print \"mean squared error: \", metrics.mean_squared_error(y_true4, rfReg4_grid_pred)\n",
    "print \"r2_score: \", metrics.r2_score(y_true4, rfReg4_grid_pred, multioutput='variance_weighted') \n",
    "print \"r2_score: \", metrics.r2_score(y_true4, rfReg4_grid_pred, multioutput='uniform_average')"
   ]
  },
  {
   "cell_type": "code",
   "execution_count": 58,
   "metadata": {
    "collapsed": false
   },
   "outputs": [
    {
     "data": {
      "text/plain": [
       "array([[ 0.59880968,  0.69819723,  0.        , -0.855152  ,  0.0476268 ,\n",
       "         0.01668798],\n",
       "       [-1.36365085,  0.08459499,  0.        , -1.11796349,  0.16357701,\n",
       "         0.89289636],\n",
       "       [-1.61725225, -0.05420225,  0.        ,  1.18929362,  1.03548479,\n",
       "         0.6849477 ],\n",
       "       ..., \n",
       "       [-0.64928888, -1.03014104,  0.        , -0.3912834 ,  0.50574134,\n",
       "         0.02618089],\n",
       "       [ 0.33860946, -1.39749214,  0.        , -0.83983608, -0.26815141,\n",
       "        -0.93737799],\n",
       "       [-0.99821259,  0.73537668,  0.        , -1.04837886,  0.33636362,\n",
       "         0.51944919]])"
      ]
     },
     "execution_count": 58,
     "metadata": {},
     "output_type": "execute_result"
    }
   ],
   "source": [
    "rfReg4_grid_pred"
   ]
  },
  {
   "cell_type": "code",
   "execution_count": 59,
   "metadata": {
    "collapsed": false
   },
   "outputs": [
    {
     "data": {
      "text/plain": [
       "array([[ 0.66165492,  0.66574406,  0.        , -1.08779489,  0.240039  ,\n",
       "        -0.02977212],\n",
       "       [-1.39725667,  0.96944522,  0.        , -1.15691211, -0.23490031,\n",
       "         0.84838809],\n",
       "       [-1.66680864,  1.23970756,  0.        ,  1.05093886,  1.31837019,\n",
       "         0.34272308],\n",
       "       ..., \n",
       "       [-0.82807634, -1.65955969,  0.        , -0.18144525, -0.05182882,\n",
       "         0.06268255],\n",
       "       [-0.0954852 , -1.60073986,  0.        , -0.95082688, -1.53992855,\n",
       "        -1.70725513],\n",
       "       [-0.93662496,  1.09466018,  0.        , -1.08400271,  0.27665271,\n",
       "         0.58316485]])"
      ]
     },
     "execution_count": 59,
     "metadata": {},
     "output_type": "execute_result"
    }
   ],
   "source": [
    "y_true4"
   ]
  },
  {
   "cell_type": "code",
   "execution_count": null,
   "metadata": {
    "collapsed": true
   },
   "outputs": [],
   "source": []
  }
 ],
 "metadata": {
  "kernelspec": {
   "display_name": "Python 2",
   "language": "python",
   "name": "python2"
  },
  "language_info": {
   "codemirror_mode": {
    "name": "ipython",
    "version": 2
   },
   "file_extension": ".py",
   "mimetype": "text/x-python",
   "name": "python",
   "nbconvert_exporter": "python",
   "pygments_lexer": "ipython2",
   "version": "2.7.13"
  }
 },
 "nbformat": 4,
 "nbformat_minor": 2
}
