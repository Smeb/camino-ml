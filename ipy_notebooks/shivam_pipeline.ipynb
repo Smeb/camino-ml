{
 "cells": [
  {
   "cell_type": "code",
   "execution_count": 50,
   "metadata": {
    "collapsed": false
   },
   "outputs": [
    {
     "name": "stdout",
     "output_type": "stream",
     "text": [
      "[Errno 2] No such file or directory: 'Desktop/workBench/'\n",
      "/Users/ShivamDhall/Desktop/workBench\n"
     ]
    }
   ],
   "source": [
    "cd Desktop/workBench/"
   ]
  },
  {
   "cell_type": "code",
   "execution_count": 51,
   "metadata": {
    "collapsed": false,
    "scrolled": true
   },
   "outputs": [],
   "source": [
    "import subprocess\n",
    "import pandas as pd\n",
    "import numpy as np\n",
    "import random\n",
    "import os\n",
    "import time\n",
    "import progressbar\n",
    "import matplotlib.pyplot as plt\n",
    "import math"
   ]
  },
  {
   "cell_type": "markdown",
   "metadata": {},
   "source": [
    "## Generating Data"
   ]
  },
  {
   "cell_type": "code",
   "execution_count": 3,
   "metadata": {
    "collapsed": false
   },
   "outputs": [],
   "source": [
    "#fuction for generating the sythesised MRI signals\n",
    "\n",
    "def genData(modelsDict, schemeFileLoc, fileName, iterations, groundTruthNames):\n",
    "    argsList = [\"datasynth\", \"-synthmodel\", \"compartment\"]\n",
    "    numberOfCompartments = len(modelsDict)\n",
    "    argsList.append(numberOfCompartments)\n",
    "    for key in range(numberOfCompartments):\n",
    "        for value in modelsDict.values()[key]:\n",
    "            argsList.append(value)\n",
    "    argsList.extend((\"-schemefile\", schemeFileLoc, \"-voxels\", 1, \">\", fileName + \".Bfloat\", \"2>>\", fileName + \".log\"))\n",
    "        \n",
    "    #extra validation\n",
    "    count = 0\n",
    "    for value in argsList:\n",
    "        if type(value) == list:\n",
    "            count += 1\n",
    "    if count == 0:\n",
    "        print \"No parameters are being varied\"\n",
    "    if count != len(groundTruthNames):\n",
    "        print \"The number of parameters being varied do not match with the list of columns specifed\"\n",
    "        \n",
    "    #dataframe used to store the groundtruths in the correct sequence\n",
    "    groundTruths = pd.DataFrame(np.random.randn(iterations, len(groundTruthNames)), columns = groundTruthNames)\n",
    "    bar = progressbar.ProgressBar()\n",
    "    for iteration in bar(range(iterations)):\n",
    "        args = list(argsList)\n",
    "        i = 0\n",
    "        for index, val in enumerate(args):\n",
    "            if type(val) == list:\n",
    "                args[index] = random.uniform(val[0], val[1])\n",
    "                groundTruths.set_value(iteration, groundTruthNames[i], args[index])\n",
    "                i += 1\n",
    "            if val == fileName+\".Bfloat\":\n",
    "                args[index] = fileName + str(iteration) + \".Bfloat\"\n",
    "            args[index] = str(args[index])\n",
    "            \n",
    "        #create a subprocess which calls the command that generates a synthesised MRI signal\n",
    "        subprocess.call(' '.join(args), shell=True)\n",
    "        subprocess.call(\"echo '\\n----------\\n' >>\" + fileName + \".log\", shell = True)\n",
    "    #save groundtruths dataframe as csv file in same loc as .Bfloat files\n",
    "    groundTruths.to_csv(fileName + \"_GroundTruths.csv\")\n",
    "    return groundTruths"
   ]
  },
  {
   "cell_type": "code",
   "execution_count": 4,
   "metadata": {
    "collapsed": false
   },
   "outputs": [],
   "source": [
    "#function for converting the .Bfloat files to a 2d numpy-array\n",
    "\n",
    "def transformData(folderPath):\n",
    "    \n",
    "    #create a new datatype that is big-endian and has size of a single-precision float\n",
    "    dt = np.dtype('>f')\n",
    "    \n",
    "    isExec = False\n",
    "    BFloatFiles = [filename for filename in os.listdir(folderPath) if filename.endswith(\".Bfloat\")]\n",
    "    voxelCount = len(BFloatFiles)\n",
    "    for fileName in BFloatFiles:\n",
    "        voxArray = np.fromfile(folderPath + \"/\" + fileName, dtype=dt, sep=\"\")\n",
    "        if isExec == False:\n",
    "            finalArray = np.full([voxelCount, len(voxArray)], 0)\n",
    "            isExec = True\n",
    "        voxArray = voxArray.reshape((1, voxArray.size))\n",
    "        \n",
    "        #get number from fileName\n",
    "        voxNumber = int(filter(str.isdigit, fileName))\n",
    "        finalArray[voxNumber] = voxArray\n",
    "    return finalArray"
   ]
  },
  {
   "cell_type": "code",
   "execution_count": 7,
   "metadata": {
    "collapsed": false
   },
   "outputs": [
    {
     "name": "stderr",
     "output_type": "stream",
     "text": [
      "100% (10 of 10) |##########################| Elapsed Time: 0:00:07 Time: 0:00:07 10% ( 1 of 10) |##                         | Elapsed Time: 0:00:02 ETA: 0:00:19\n"
     ]
    }
   ],
   "source": [
    "model1 = { 1: ['Tensor', [0.8E-9, 2.2E-9], 0.0, 0.0, 2.0E-9, 1.4E-9, 0.0]}\n",
    "\n",
    "#specify the correct location of the scheme file and a generic filename for storing the bfloat files\n",
    "groundTruths = genData(model1, \"PGSE_90.scheme\", \"./exp1/DT\", 1000, [\"diffusivity\"])"
   ]
  },
  {
   "cell_type": "code",
   "execution_count": 63,
   "metadata": {
    "collapsed": false
   },
   "outputs": [],
   "source": [
    "groundTruths = pd.read_csv(\"./exp1/DT_GroundTruths.csv\", index_col = 0)\n",
    "data = transformData(\"./exp1\")\n",
    "y = groundTruths[' '.join(groundTruths.columns.tolist())].values\n",
    "y_scaled = y * 1E9"
   ]
  },
  {
   "cell_type": "markdown",
   "metadata": {},
   "source": [
    "## Machine Learning "
   ]
  },
  {
   "cell_type": "code",
   "execution_count": 85,
   "metadata": {
    "collapsed": true
   },
   "outputs": [],
   "source": [
    "from sklearn.model_selection import GridSearchCV\n",
    "from sklearn import linear_model\n",
    "from sklearn import metrics\n",
    "from sklearn.ensemble import RandomForestRegressor\n",
    "from sklearn import preprocessing"
   ]
  },
  {
   "cell_type": "code",
   "execution_count": 66,
   "metadata": {
    "collapsed": false
   },
   "outputs": [],
   "source": [
    "#we first randomly split the data into a training and testing set of ratio 7:3\n",
    "np.random.seed(0)\n",
    "indices = np.random.permutation(len(data))\n",
    "num = int(len(data)*0.7)\n",
    "X_train = data[indices[:num]]\n",
    "y_train = y_scaled[indices[:num]]\n",
    "X_test  = data[indices[num:]]\n",
    "y_true  = y_scaled[indices[num:]]"
   ]
  },
  {
   "cell_type": "markdown",
   "metadata": {},
   "source": [
    "##### Feature Visualisation"
   ]
  },
  {
   "cell_type": "code",
   "execution_count": 67,
   "metadata": {
    "collapsed": false,
    "scrolled": true
   },
   "outputs": [
    {
     "data": {
      "text/plain": [
       "<matplotlib.collections.PathCollection at 0x108491690>"
      ]
     },
     "execution_count": 67,
     "metadata": {},
     "output_type": "execute_result"
    },
    {
     "data": {
      "image/png": "[encoded data removed]",
      "text/plain": [
       "<matplotlib.figure.Figure at 0x106de6c50>"
      ]
     },
     "metadata": {},
     "output_type": "display_data"
    }
   ],
   "source": [
    "%matplotlib inline\n",
    "plt.scatter (X_train[:,0], y_train)\n",
    "#plt.scatter (X_train[:,1], y_train)\n",
    "#plt.scatter (X_train[:,2], y_train)"
   ]
  },
  {
   "cell_type": "markdown",
   "metadata": {},
   "source": [
    "### Experiment 1"
   ]
  },
  {
   "cell_type": "markdown",
   "metadata": {},
   "source": [
    "Model used = Diffusion Tensor  \n",
    "\n",
    "Parameters being predicted:\n",
    "- Diffusivity in a single direction"
   ]
  },
  {
   "cell_type": "markdown",
   "metadata": {},
   "source": [
    "##### Ridge Regression"
   ]
  },
  {
   "cell_type": "code",
   "execution_count": 68,
   "metadata": {
    "collapsed": false
   },
   "outputs": [],
   "source": [
    "reg = linear_model.RidgeCV()\n",
    "reg.fit(X_train, y_train)\n",
    "y_pred = reg.predict(X_test)"
   ]
  },
  {
   "cell_type": "code",
   "execution_count": 69,
   "metadata": {
    "collapsed": false
   },
   "outputs": [
    {
     "name": "stdout",
     "output_type": "stream",
     "text": [
      "explained varience score:  0.999634047601\n",
      "mean absolute error:  0.00702573996314\n",
      "mean squared error:  6.80244659874e-05\n",
      "r2_score:  0.999633739064\n"
     ]
    }
   ],
   "source": [
    "print \"explained varience score: \", metrics.explained_variance_score(y_true, y_pred)\n",
    "print \"mean absolute error: \", metrics.mean_absolute_error(y_true, y_pred)\n",
    "print \"mean squared error: \", metrics.mean_squared_error(y_true, y_pred)\n",
    "print \"r2_score: \", metrics.r2_score(y_true, y_pred) "
   ]
  },
  {
   "cell_type": "markdown",
   "metadata": {},
   "source": [
    "##### Random Forest Regression"
   ]
  },
  {
   "cell_type": "code",
   "execution_count": 70,
   "metadata": {
    "collapsed": false
   },
   "outputs": [],
   "source": [
    "rfReg = RandomForestRegressor(n_estimators = 1)\n",
    "rfReg.fit(X_train, y_train)\n",
    "rfy_pred = rfReg.predict(X_test)"
   ]
  },
  {
   "cell_type": "code",
   "execution_count": 72,
   "metadata": {
    "collapsed": false
   },
   "outputs": [
    {
     "name": "stdout",
     "output_type": "stream",
     "text": [
      " explained varience score:  0.999974533267\n",
      "mean absolute error:  0.00157493769052\n",
      "mean squared error:  4.74419560836e-06\n",
      "r2_score:  0.99997445605\n"
     ]
    }
   ],
   "source": [
    "print \"explained varience score: \", metrics.explained_variance_score(y_true, rfy_pred)\n",
    "print \"mean absolute error: \", metrics.mean_absolute_error(y_true, rfy_pred)\n",
    "print \"mean squared error: \", metrics.mean_squared_error(y_true, rfy_pred)\n",
    "print \"r2_score: \", metrics.r2_score(y_true, rfy_pred) "
   ]
  },
  {
   "cell_type": "markdown",
   "metadata": {},
   "source": [
    "##### SVM Regression"
   ]
  },
  {
   "cell_type": "code",
   "execution_count": 190,
   "metadata": {
    "collapsed": false
   },
   "outputs": [],
   "source": [
    "from sklearn import svm\n",
    "clf = svm.SVR(kernel='linear')\n",
    "clf.fit(X_train, y_train)\n",
    "clf_pred = clf.predict(X_test)"
   ]
  },
  {
   "cell_type": "code",
   "execution_count": 18,
   "metadata": {
    "collapsed": false
   },
   "outputs": [
    {
     "name": "stdout",
     "output_type": "stream",
     "text": [
      "explained varience score:  0.983122455962\n",
      "mean absolute error:  0.0632333213983\n",
      "mean squared error:  0.00492620473448\n",
      "r2_score:  0.973476067285\n"
     ]
    }
   ],
   "source": [
    "print \"explained varience score: \", metrics.explained_variance_score(y_true, clf_pred)\n",
    "print \"mean absolute error: \", metrics.mean_absolute_error(y_true, clf_pred)\n",
    "print \"mean squared error: \", metrics.mean_squared_error(y_true, clf_pred)\n",
    "print \"r2_score: \", metrics.r2_score(y_true, clf_pred) "
   ]
  },
  {
   "cell_type": "markdown",
   "metadata": {},
   "source": [
    "##### K-Nearest Neighbors"
   ]
  },
  {
   "cell_type": "code",
   "execution_count": 19,
   "metadata": {
    "collapsed": false
   },
   "outputs": [],
   "source": [
    "from sklearn import neighbors\n",
    "knn = neighbors.KNeighborsRegressor(n_neighbors = 2, weights = \"distance\")\n",
    "knn.fit(X_train, y_train)\n",
    "knn_pred = knn.predict(X_test)"
   ]
  },
  {
   "cell_type": "code",
   "execution_count": 20,
   "metadata": {
    "collapsed": false
   },
   "outputs": [
    {
     "name": "stdout",
     "output_type": "stream",
     "text": [
      "explained varience score:  0.999991218579\n",
      "mean absolute error:  0.000723556305759\n",
      "mean squared error:  1.63640220315e-06\n",
      "r2_score:  0.999991189196\n"
     ]
    }
   ],
   "source": [
    "print \"explained varience score: \", metrics.explained_variance_score(y_true, knn_pred)\n",
    "print \"mean absolute error: \", metrics.mean_absolute_error(y_true, knn_pred)\n",
    "print \"mean squared error: \", metrics.mean_squared_error(y_true, knn_pred)\n",
    "print \"r2_score: \", metrics.r2_score(y_true, knn_pred) "
   ]
  },
  {
   "cell_type": "code",
   "execution_count": 21,
   "metadata": {
    "collapsed": false,
    "scrolled": true
   },
   "outputs": [
    {
     "data": {
      "text/plain": [
       "array([ 0.66023671,  1.27733817,  1.72438136,  1.81277436,  1.95465759,\n",
       "        1.94332413,  1.63777381,  1.55581252,  0.90594993,  0.54602426,\n",
       "        1.47433408,  1.18693772,  1.11529745,  0.97373485,  0.99570761,\n",
       "        0.8494733 ,  1.31546439,  0.59738897,  1.75938238,  0.89720076,\n",
       "        0.77734209,  1.2601013 ,  0.71134949,  0.82636427,  0.85557685,\n",
       "        1.02438344,  1.57770401,  0.54220987,  1.51525375,  1.10587811,\n",
       "        0.67460871,  0.67880785,  0.52189314,  1.91045326,  0.63328832,\n",
       "        1.08114961,  0.8208934 ,  0.75897603,  1.01098802,  0.70436208,\n",
       "        0.77754572,  0.96602705,  1.47039865,  1.52894745,  1.04761308,\n",
       "        1.33850179,  1.84057437,  1.5291857 ,  1.51465309,  1.41358677,\n",
       "        1.38555981,  1.96299677,  1.92964976,  1.04486216,  1.68791658,\n",
       "        1.97591047,  0.62210907,  1.50897047,  1.31494479,  0.88858181,\n",
       "        1.51606727,  1.92133206,  1.30988479,  0.80499989,  0.88988818,\n",
       "        1.51952413,  1.57865651,  0.99875512,  0.59276484,  1.0235215 ,\n",
       "        1.71057026,  0.5322974 ,  0.70815164,  1.49067049,  1.7168425 ,\n",
       "        1.50897591,  0.62680358,  1.55743488,  1.87603143,  0.61644911,\n",
       "        0.93616725,  1.64823209,  1.92066334,  0.51824332,  0.91364467,\n",
       "        0.51956977,  1.54568805,  1.86269843,  1.31184946,  1.91895542,\n",
       "        1.444889  ,  1.0844329 ,  1.24042711,  1.9717415 ,  1.71449202,\n",
       "        1.26699095,  1.64172011,  1.87719006,  0.89564463,  1.06169956,\n",
       "        1.63838569,  0.72537375,  1.39321473,  1.76275208,  1.23555801,\n",
       "        1.34521576,  0.7702069 ,  0.51400145,  1.54600902,  0.66841444,\n",
       "        0.8932422 ,  1.92910184,  1.88416411,  1.0097582 ,  1.1789975 ,\n",
       "        0.97408438,  0.92190342,  1.73550093,  1.24460987,  1.34159519,\n",
       "        1.02835096,  0.99923856,  1.43651638,  0.60484072,  0.95464197,\n",
       "        1.49187293,  1.96413963,  1.69401299,  1.66274984,  0.92371107,\n",
       "        0.96677623,  1.0224856 ,  0.51452687,  1.08686626,  0.84191561,\n",
       "        0.64460309,  0.55392651,  1.31709082,  0.73460251,  0.68491304,\n",
       "        0.60558543,  1.8936123 ,  1.07074768,  1.01621533,  1.32064301,\n",
       "        1.77284959,  0.98975825,  1.36841195,  1.12895406,  0.7537962 ,\n",
       "        1.79676974,  1.07433182,  0.69542548,  1.48099529,  1.64975796,\n",
       "        1.37377424,  1.00733561,  1.4727321 ,  1.64798413,  1.81983111,\n",
       "        1.08589524,  1.13605784,  1.17595127,  0.88429588,  1.28143376,\n",
       "        1.7377753 ,  1.9859682 ,  1.91472831,  1.8425923 ,  1.30210614,\n",
       "        0.84301362,  1.86407636,  0.53588985,  0.67700864,  0.71987393,\n",
       "        1.18770561,  1.85757518,  1.57649428,  1.15249243,  1.97038171,\n",
       "        1.17479505,  0.95437166,  1.95213705,  1.4764399 ,  1.91054278,\n",
       "        1.91673254,  0.6428623 ,  0.7375706 ,  1.60603634,  1.85395567,\n",
       "        1.14884707,  1.44961644,  0.92334268,  1.77415561,  0.62263878,\n",
       "        1.73619805,  1.08807935,  0.68125518,  1.4151676 ,  1.03846964,\n",
       "        1.35630181,  1.95023517,  1.58039487,  1.56756466,  1.21382907,\n",
       "        0.90570077,  1.15142471,  1.46787743,  0.86857995,  1.71900979,\n",
       "        1.94908151,  1.78028611,  1.78298875,  1.58626736,  1.09996551,\n",
       "        1.74677535,  0.73444601,  1.97708804,  1.83773938,  1.41386578,\n",
       "        1.87309012,  1.81627333,  1.47534478,  1.05573896,  0.97764279,\n",
       "        0.79651148,  1.11854627,  1.24226345,  1.2529078 ,  1.19701176,\n",
       "        1.13109729,  0.61391506,  1.5426002 ,  1.29194389,  1.34057646,\n",
       "        0.80754295,  1.54938352,  0.85965277,  1.02469056,  1.51309737,\n",
       "        1.3281588 ,  1.00861131,  1.99873337,  1.54403589,  1.45317629,\n",
       "        0.82374146,  1.744829  ,  1.37887277,  1.0498393 ,  1.20690034,\n",
       "        1.77329838,  1.33542955,  0.67064157,  1.67702139,  0.68040359,\n",
       "        1.60754343,  1.39678762,  1.76199642,  1.40605251,  1.76103349,\n",
       "        0.53357573,  1.46086313,  1.63749354,  1.85501477,  1.5305389 ,\n",
       "        1.39853102,  1.15934387,  0.83362116,  0.77601257,  1.93610946,\n",
       "        0.81524459,  0.80448725,  0.54220949,  1.58705721,  1.1893091 ,\n",
       "        1.13734243,  1.52954911,  0.92367159,  1.88768397,  1.20426953,\n",
       "        0.96394233,  1.18009103,  0.61028763,  1.57128077,  1.18247662,\n",
       "        0.90729686,  1.86237444,  0.67317052,  1.54194062,  1.32880267,\n",
       "        1.94861944,  1.44082466,  0.89747089,  0.86430054,  1.43151239,\n",
       "        0.54134345,  1.63215299,  0.57322805,  0.96758754,  0.69472985])"
      ]
     },
     "execution_count": 21,
     "metadata": {},
     "output_type": "execute_result"
    }
   ],
   "source": [
    "y_true"
   ]
  },
  {
   "cell_type": "code",
   "execution_count": 22,
   "metadata": {
    "collapsed": false,
    "scrolled": true
   },
   "outputs": [
    {
     "data": {
      "text/plain": [
       "array([ 0.6602379 ,  1.27733829,  1.72446284,  1.81150244,  1.95483132,\n",
       "        1.94389897,  1.63777573,  1.5558126 ,  0.90785212,  0.54595806,\n",
       "        1.47433482,  1.18605761,  1.11529789,  0.9737357 ,  0.99506858,\n",
       "        0.85092498,  1.31546445,  0.59684839,  1.7584961 ,  0.89645509,\n",
       "        0.77734425,  1.25822566,  0.70657055,  0.82733074,  0.85557736,\n",
       "        1.02671175,  1.57776285,  0.54220988,  1.5162778 ,  1.10588266,\n",
       "        0.67322462,  0.68176095,  0.52242798,  1.91045329,  0.63328848,\n",
       "        1.07943609,  0.82034853,  0.75607336,  1.01098834,  0.70500839,\n",
       "        0.77754794,  0.96602766,  1.47072565,  1.52984208,  1.04761363,\n",
       "        1.34099918,  1.84057469,  1.52984202,  1.51465346,  1.41280507,\n",
       "        1.38724788,  1.96299931,  1.9319553 ,  1.04582229,  1.68791666,\n",
       "        1.97661704,  0.6198235 ,  1.50897214,  1.3153484 ,  0.88858522,\n",
       "        1.51606728,  1.92062426,  1.31036942,  0.80552279,  0.89205836,\n",
       "        1.51897377,  1.57780497,  1.00073734,  0.59276485,  1.02703555,\n",
       "        1.71057058,  0.53515729,  0.70682407,  1.49067304,  1.71702259,\n",
       "        1.50897759,  0.62617356,  1.5570574 ,  1.87431736,  0.61712617,\n",
       "        0.93616756,  1.64823233,  1.92066335,  0.51824355,  0.91364514,\n",
       "        0.51957194,  1.54590169,  1.86269843,  1.3111287 ,  1.92055444,\n",
       "        1.44888304,  1.08587766,  1.24007627,  1.9717429 ,  1.71449217,\n",
       "        1.2664123 ,  1.6417206 ,  1.87427727,  0.89564464,  1.06169965,\n",
       "        1.63838738,  0.72576374,  1.39321475,  1.76337984,  1.23555939,\n",
       "        1.34521585,  0.7685745 ,  0.51316701,  1.54592369,  0.66856026,\n",
       "        0.89324254,  1.93202137,  1.88361207,  1.00998163,  1.17956608,\n",
       "        0.9740852 ,  0.92190383,  1.73550104,  1.24464544,  1.34159523,\n",
       "        1.02835387,  1.00066129,  1.43552353,  0.60484079,  0.95310993,\n",
       "        1.49187578,  1.96414209,  1.69484748,  1.66275338,  0.92371169,\n",
       "        0.96677677,  1.02730434,  0.51452839,  1.08589324,  0.84606469,\n",
       "        0.64451624,  0.55373984,  1.31709105,  0.73486026,  0.68491326,\n",
       "        0.60476465,  1.89361236,  1.070758  ,  1.01277769,  1.31942313,\n",
       "        1.77424256,  0.98967017,  1.37115677,  1.12804742,  0.75354299,\n",
       "        1.79677824,  1.07712635,  0.69542853,  1.48099531,  1.64975833,\n",
       "        1.37294976,  1.00695809,  1.47110752,  1.64798437,  1.81983161,\n",
       "        1.08589525,  1.13708903,  1.17528466,  0.88498822,  1.28143427,\n",
       "        1.73777565,  1.98059046,  1.91472831,  1.84321688,  1.3034065 ,\n",
       "        0.84593332,  1.86257754,  0.53589039,  0.67701675,  0.71987399,\n",
       "        1.185915  ,  1.85757541,  1.57661876,  1.15266403,  1.97024535,\n",
       "        1.17479512,  0.95313849,  1.95061246,  1.47644027,  1.91054281,\n",
       "        1.91465238,  0.64286248,  0.73708909,  1.60758811,  1.85401839,\n",
       "        1.14884711,  1.44974029,  0.92334322,  1.7742116 ,  0.619813  ,\n",
       "        1.73589402,  1.08808042,  0.68140007,  1.41530276,  1.03847004,\n",
       "        1.35630192,  1.95023519,  1.57780211,  1.56890845,  1.21307171,\n",
       "        0.90785225,  1.15142522,  1.47095293,  0.86858018,  1.71900982,\n",
       "        1.94908181,  1.77733102,  1.78514027,  1.58768915,  1.09699705,\n",
       "        1.74677541,  0.73497579,  1.9770882 ,  1.83905868,  1.41278866,\n",
       "        1.87404798,  1.81499667,  1.47534478,  1.05573897,  0.97727044,\n",
       "        0.79651169,  1.11854634,  1.24226489,  1.25290784,  1.19694286,\n",
       "        1.13109825,  0.61370124,  1.54186241,  1.29194518,  1.34097548,\n",
       "        0.80562508,  1.54643029,  0.85966   ,  1.02656207,  1.51309753,\n",
       "        1.33275151,  1.00861201,  1.99907517,  1.54490056,  1.45317711,\n",
       "        0.82374333,  1.74482975,  1.37886707,  1.04903433,  1.20747616,\n",
       "        1.77424155,  1.33526537,  0.67096811,  1.67972447,  0.68166437,\n",
       "        1.60754347,  1.39402464,  1.76341789,  1.40605408,  1.76103465,\n",
       "        0.53495114,  1.46099448,  1.6374955 ,  1.85501487,  1.53003338,\n",
       "        1.4014176 ,  1.16092931,  0.83288634,  0.77526541,  1.93548897,\n",
       "        0.81527138,  0.80448761,  0.5422095 ,  1.58768648,  1.18581187,\n",
       "        1.137134  ,  1.52984174,  0.92367221,  1.88768407,  1.2042711 ,\n",
       "        0.96394271,  1.18009116,  0.61018671,  1.57198132,  1.18247811,\n",
       "        0.9078494 ,  1.86241165,  0.67317121,  1.54186297,  1.33274703,\n",
       "        1.94861972,  1.43934946,  0.89640163,  0.86474835,  1.4348855 ,\n",
       "        0.54134394,  1.63175149,  0.57344455,  0.96756879,  0.69473251])"
      ]
     },
     "execution_count": 22,
     "metadata": {},
     "output_type": "execute_result"
    }
   ],
   "source": [
    "knn_pred"
   ]
  },
  {
   "cell_type": "code",
   "execution_count": 24,
   "metadata": {
    "collapsed": false
   },
   "outputs": [
    {
     "data": {
      "text/plain": [
       "<matplotlib.collections.PathCollection at 0x114774cd0>"
      ]
     },
     "execution_count": 24,
     "metadata": {},
     "output_type": "execute_result"
    },
    {
     "data": {
      "image/png": "[encoded data removed]",
      "text/plain": [
       "<matplotlib.figure.Figure at 0x1135c7e50>"
      ]
     },
     "metadata": {},
     "output_type": "display_data"
    }
   ],
   "source": [
    "%matplotlib inline\n",
    "plt.scatter(y_true, knn_pred)"
   ]
  },
  {
   "cell_type": "markdown",
   "metadata": {
    "collapsed": true
   },
   "source": [
    "### Experiment 2"
   ]
  },
  {
   "cell_type": "markdown",
   "metadata": {},
   "source": [
    "Model used = Diffusion Tensor    \n",
    "\n",
    "Parameters being predicted: \n",
    "- Diffusivity in three directions"
   ]
  },
  {
   "cell_type": "code",
   "execution_count": 23,
   "metadata": {
    "collapsed": false
   },
   "outputs": [
    {
     "name": "stderr",
     "output_type": "stream",
     "text": [
      "100% (100 of 100) |#############################################| Elapsed Time: 0:00:55 Time: 0:00:55  1% (1 of 100) |                                                | Elapsed Time: 0:00:02 ETA: 0:03:18\n"
     ]
    }
   ],
   "source": [
    "model2 = { 1: ['Tensor', [0.8E-9, 2.2E-9], 0.0, 0.0, [0.8E-9, 2.2E-9], [0.8E-9, 2.2E-9], 0.0]}\n",
    "\n",
    "#specify the correct location of the scheme file and a generic filename for storing the bfloat files\n",
    "groundTruths2 = genData(model2, \"PGSE_90.scheme\", \"./exp2/DT\", 100, [\"d1\", \"d2\", \"d3\"])"
   ]
  },
  {
   "cell_type": "code",
   "execution_count": 24,
   "metadata": {
    "collapsed": false
   },
   "outputs": [],
   "source": [
    "groundTruths2 = pd.read_csv(\"./exp2/DT_GroundTruths.csv\", index_col = 0)\n",
    "data2 = transformData(\"./exp2\")\n",
    "y2 = groundTruths2.values * 1E9"
   ]
  },
  {
   "cell_type": "code",
   "execution_count": 25,
   "metadata": {
    "collapsed": true
   },
   "outputs": [],
   "source": [
    "np.random.seed(0)\n",
    "indices = np.random.permutation(len(data2))\n",
    "num = int(len(data2)*0.7)\n",
    "X_train2 = data2[indices[:num]]\n",
    "y_train2 = y2[indices[:num]]\n",
    "X_test2  = data2[indices[num:]]\n",
    "y_true2  = y2[indices[num:]]"
   ]
  },
  {
   "cell_type": "markdown",
   "metadata": {},
   "source": [
    "##### Ridge Regression"
   ]
  },
  {
   "cell_type": "code",
   "execution_count": 27,
   "metadata": {
    "collapsed": false
   },
   "outputs": [],
   "source": [
    "reg2 = linear_model.RidgeCV()\n",
    "reg2.fit(X_train2, y_train2)\n",
    "y_pred2 = reg2.predict(X_test2)"
   ]
  },
  {
   "cell_type": "code",
   "execution_count": 28,
   "metadata": {
    "collapsed": false
   },
   "outputs": [
    {
     "name": "stdout",
     "output_type": "stream",
     "text": [
      "explained varience score:  0.995986583289\n",
      "r2_score:  0.995843227189\n"
     ]
    }
   ],
   "source": [
    "print \"explained varience score: \", metrics.explained_variance_score(y_true2, y_pred2, multioutput='variance_weighted')\n",
    "print \"r2_score: \", metrics.r2_score(y_true2, y_pred2, multioutput='variance_weighted') "
   ]
  },
  {
   "cell_type": "code",
   "execution_count": 29,
   "metadata": {
    "collapsed": false,
    "scrolled": true
   },
   "outputs": [
    {
     "data": {
      "text/plain": [
       "array([[ 1.8095335 ,  1.78784883,  1.61180596],\n",
       "       [ 1.12959741,  2.12442864,  2.04968694],\n",
       "       [ 1.36354158,  1.38951138,  1.5700255 ],\n",
       "       [ 1.72748263,  1.54715691,  1.82599956],\n",
       "       [ 2.06534305,  2.07760061,  2.03028736],\n",
       "       [ 1.41948268,  1.23287141,  0.9474717 ],\n",
       "       [ 1.88911142,  0.86325097,  0.90187227],\n",
       "       [ 1.62863946,  1.83130504,  1.794221  ],\n",
       "       [ 1.29953153,  0.82177872,  1.50142281],\n",
       "       [ 0.88233839,  1.55737301,  1.36634095],\n",
       "       [ 1.66273266,  1.31922579,  1.73607005],\n",
       "       [ 1.57898092,  0.98603515,  2.01597105],\n",
       "       [ 1.20086348,  1.0714754 ,  1.99275184],\n",
       "       [ 2.08325028,  1.04526686,  1.3179162 ],\n",
       "       [ 1.60833844,  1.88068046,  1.93477796],\n",
       "       [ 1.93053645,  0.94631466,  1.66392388],\n",
       "       [ 1.97927596,  1.23214878,  1.07628028],\n",
       "       [ 1.24081205,  1.60496646,  1.39735447],\n",
       "       [ 2.14462521,  1.26990798,  1.92361532],\n",
       "       [ 1.97865795,  1.39054755,  1.59463346],\n",
       "       [ 0.92351022,  2.11364739,  1.35495187],\n",
       "       [ 1.87092165,  1.37613665,  1.32138874],\n",
       "       [ 1.33718456,  1.00172091,  1.83161253],\n",
       "       [ 2.0426863 ,  0.94087679,  1.95445713],\n",
       "       [ 2.19663817,  1.70310942,  1.46548847],\n",
       "       [ 1.92981873,  1.85437373,  1.78975292],\n",
       "       [ 1.01120926,  1.00086089,  2.15310828],\n",
       "       [ 1.9247155 ,  1.07990116,  1.56986708],\n",
       "       [ 1.60402541,  1.37967273,  0.93974051],\n",
       "       [ 2.16031462,  1.47266654,  2.14794123]])"
      ]
     },
     "execution_count": 29,
     "metadata": {},
     "output_type": "execute_result"
    }
   ],
   "source": [
    "y_true2"
   ]
  },
  {
   "cell_type": "code",
   "execution_count": 30,
   "metadata": {
    "collapsed": false,
    "scrolled": true
   },
   "outputs": [
    {
     "data": {
      "text/plain": [
       "array([[ 1.80679543,  1.7954232 ,  1.63684977],\n",
       "       [ 1.18212122,  2.083819  ,  2.01350902],\n",
       "       [ 1.37793304,  1.40264347,  1.58088621],\n",
       "       [ 1.73640209,  1.56907886,  1.83036229],\n",
       "       [ 2.02591517,  2.03976373,  2.01289328],\n",
       "       [ 1.43728425,  1.23872611,  0.90515143],\n",
       "       [ 1.9078611 ,  0.84822803,  0.86827061],\n",
       "       [ 1.64883153,  1.83195205,  1.79898098],\n",
       "       [ 1.30668215,  0.78810149,  1.51767677],\n",
       "       [ 0.86086784,  1.57699875,  1.3721893 ],\n",
       "       [ 1.67455454,  1.33711105,  1.74861265],\n",
       "       [ 1.60039578,  0.9873681 ,  2.00975845],\n",
       "       [ 1.21814686,  1.06823019,  1.98852046],\n",
       "       [ 2.05402569,  1.05573225,  1.34701475],\n",
       "       [ 1.63595671,  1.87480604,  1.9209597 ],\n",
       "       [ 1.91915279,  0.94820732,  1.69364898],\n",
       "       [ 1.96847829,  1.2507949 ,  1.07869802],\n",
       "       [ 1.2495798 ,  1.62226373,  1.40305772],\n",
       "       [ 2.08972978,  1.30985711,  1.93256184],\n",
       "       [ 1.95363728,  1.41823842,  1.62446188],\n",
       "       [ 0.92443666,  2.10011111,  1.36873361],\n",
       "       [ 1.86326465,  1.39841171,  1.34215288],\n",
       "       [ 1.35377241,  0.99073746,  1.84235582],\n",
       "       [ 2.01364278,  0.95905683,  1.96493064],\n",
       "       [ 2.12481729,  1.72633255,  1.51432685],\n",
       "       [ 1.91199719,  1.8548517 ,  1.80538252],\n",
       "       [ 1.02199019,  0.99389917,  2.13710925],\n",
       "       [ 1.91270843,  1.08990532,  1.59911842],\n",
       "       [ 1.6220595 ,  1.39870857,  0.90674459],\n",
       "       [ 2.10048116,  1.51843008,  2.11204323]])"
      ]
     },
     "execution_count": 30,
     "metadata": {},
     "output_type": "execute_result"
    }
   ],
   "source": [
    "y_pred2"
   ]
  },
  {
   "cell_type": "code",
   "execution_count": 31,
   "metadata": {
    "collapsed": false
   },
   "outputs": [
    {
     "data": {
      "text/plain": [
       "<matplotlib.collections.PathCollection at 0x106da2550>"
      ]
     },
     "execution_count": 31,
     "metadata": {},
     "output_type": "execute_result"
    },
    {
     "data": {
      "image/png": "[encoded data removed]",
      "text/plain": [
       "<matplotlib.figure.Figure at 0x106b11150>"
      ]
     },
     "metadata": {},
     "output_type": "display_data"
    }
   ],
   "source": [
    "%matplotlib inline\n",
    "plt.scatter(y_true2, y_pred2)"
   ]
  },
  {
   "cell_type": "markdown",
   "metadata": {
    "collapsed": true
   },
   "source": [
    "### Experiment 3"
   ]
  },
  {
   "cell_type": "markdown",
   "metadata": {},
   "source": [
    "Model used = Ball and stick\n",
    "\n",
    "Parameters predicted: \n",
    "- Intra axonal volume fraction (Stick)\n",
    "- Intra axonal diffusivity (Stick)  \n",
    "- Extra axonal diffusivity (Ball)"
   ]
  },
  {
   "cell_type": "code",
   "execution_count": 128,
   "metadata": {
    "collapsed": false
   },
   "outputs": [
    {
     "name": "stderr",
     "output_type": "stream",
     "text": [
      "100% (1000 of 1000) |###########################################| Elapsed Time: 0:09:33 Time: 0:09:33  0% (1 of 1000) |                                               | Elapsed Time: 0:00:02 ETA: 0:40:13\n"
     ]
    }
   ],
   "source": [
    "model3 = { 1: ['Stick', [0.0, 1.0], [0.8E-9, 2.2E-9], 0.0, 0.0], 2: ['Ball', [0.8E-9, 2.2E-9]]}\n",
    "\n",
    "groundTruths3 = genData(model3, \"PGSE_90.scheme\", \"./exp3/BalAndStick\", 1000, [\"StickVolumeFraction\", \"intraD\", \"extraD\"])"
   ]
  },
  {
   "cell_type": "code",
   "execution_count": 131,
   "metadata": {
    "collapsed": false
   },
   "outputs": [],
   "source": [
    "groundTruths3 = pd.read_csv(\"./exp3/BalAndStick_GroundTruths.csv\", index_col = 0)\n",
    "data3 = transformData(\"./exp3\")\n",
    "y3 = groundTruths3.values"
   ]
  },
  {
   "cell_type": "code",
   "execution_count": 132,
   "metadata": {
    "collapsed": false
   },
   "outputs": [],
   "source": [
    "#we can use the standard scaler implementation in sklearn to scale the ground-truth valuse before training\n",
    "y3 = preprocessing.scale(y3)"
   ]
  },
  {
   "cell_type": "code",
   "execution_count": 133,
   "metadata": {
    "collapsed": false
   },
   "outputs": [],
   "source": [
    "np.random.seed(0)\n",
    "indices = np.random.permutation(len(data3))\n",
    "num = int(len(data3)*0.7)\n",
    "X_train3 = data3[indices[:num]]\n",
    "y_train3 = y3[indices[:num]]\n",
    "X_test3  = data3[indices[num:]]\n",
    "y_true3  = y3[indices[num:]]"
   ]
  },
  {
   "cell_type": "markdown",
   "metadata": {},
   "source": [
    "##### Ridge Regression"
   ]
  },
  {
   "cell_type": "code",
   "execution_count": 134,
   "metadata": {
    "collapsed": false
   },
   "outputs": [],
   "source": [
    "reg3 = linear_model.RidgeCV()\n",
    "reg3.fit(X_train3, y_train3)\n",
    "y_pred3 = reg3.predict(X_test3)"
   ]
  },
  {
   "cell_type": "code",
   "execution_count": 135,
   "metadata": {
    "collapsed": false
   },
   "outputs": [
    {
     "name": "stdout",
     "output_type": "stream",
     "text": [
      "explained varience score:  0.831040776089\n",
      "r2_score:  0.82981067721\n"
     ]
    }
   ],
   "source": [
    "print \"explained varience score: \", metrics.explained_variance_score(y_true3, y_pred3, multioutput='variance_weighted')\n",
    "print \"r2_score: \", metrics.r2_score(y_true3, y_pred3, multioutput='variance_weighted') "
   ]
  },
  {
   "cell_type": "markdown",
   "metadata": {},
   "source": [
    "##### K-Nearest Neighbors"
   ]
  },
  {
   "cell_type": "code",
   "execution_count": 136,
   "metadata": {
    "collapsed": false
   },
   "outputs": [],
   "source": [
    "from sklearn import neighbors\n",
    "knn3 = neighbors.KNeighborsRegressor(n_neighbors = 2, weights = \"distance\")\n",
    "knn3.fit(X_train3, y_train3)\n",
    "knn_pred3 = knn3.predict(X_test3)"
   ]
  },
  {
   "cell_type": "code",
   "execution_count": 137,
   "metadata": {
    "collapsed": false
   },
   "outputs": [
    {
     "name": "stdout",
     "output_type": "stream",
     "text": [
      "explained varience score:  0.836158122923\n",
      "r2_score:  0.836125669877\n"
     ]
    }
   ],
   "source": [
    "print \"explained varience score: \", metrics.explained_variance_score(y_true3, knn_pred3, multioutput='variance_weighted')\n",
    "print \"r2_score: \", metrics.r2_score(y_true3, knn_pred3, multioutput='variance_weighted') "
   ]
  },
  {
   "cell_type": "markdown",
   "metadata": {},
   "source": [
    "Below we use a grid search with three fold cross validation to find optimal parameters for the learning algorithm.  \n",
    "The parameters selected are those that maximise the r<sup>2</sup> score."
   ]
  },
  {
   "cell_type": "code",
   "execution_count": 184,
   "metadata": {
    "collapsed": false
   },
   "outputs": [
    {
     "name": "stdout",
     "output_type": "stream",
     "text": [
      "Fitting 3 folds for each of 10 candidates, totalling 30 fits\n",
      "\n",
      "Best Params:  {'n_neighbors': 5, 'weights': 'distance'}\n"
     ]
    },
    {
     "name": "stderr",
     "output_type": "stream",
     "text": [
      "[Parallel(n_jobs=1)]: Done  30 out of  30 | elapsed:    2.3s finished\n"
     ]
    }
   ],
   "source": [
    "from sklearn.model_selection import GridSearchCV\n",
    "from sklearn.metrics import make_scorer\n",
    "grid_parameters = {'n_neighbors':[2,3,4,5,10], 'weights':(\"uniform\", \"distance\")}\n",
    "scorer = make_scorer(metrics.r2_score, multioutput=\"variance_weighted\")\n",
    "knn3_grid = GridSearchCV(neighbors.KNeighborsRegressor(), grid_parameters, scoring=scorer, verbose=1)\n",
    "knn3_grid.fit(X_train3, y_train3)\n",
    "print \"\\nBest Params: \", knn3_grid.best_params_ \n",
    "knn3_grid_pred = knn3_grid.predict(X_test3)"
   ]
  },
  {
   "cell_type": "code",
   "execution_count": 185,
   "metadata": {
    "collapsed": false
   },
   "outputs": [
    {
     "name": "stdout",
     "output_type": "stream",
     "text": [
      "explained varience score:  0.842031411949\n",
      "r2_score:  0.841983818256\n"
     ]
    }
   ],
   "source": [
    "print \"explained varience score: \", metrics.explained_variance_score(y_true3, knn3_grid_pred, multioutput='variance_weighted')\n",
    "print \"r2_score: \", metrics.r2_score(y_true3, knn3_grid_pred, multioutput='variance_weighted') "
   ]
  },
  {
   "cell_type": "markdown",
   "metadata": {},
   "source": [
    "#####  Random Forests\n",
    "With grid search and 3-fold cross validation"
   ]
  },
  {
   "cell_type": "code",
   "execution_count": 187,
   "metadata": {
    "collapsed": false
   },
   "outputs": [
    {
     "name": "stdout",
     "output_type": "stream",
     "text": [
      "Fitting 3 folds for each of 15 candidates, totalling 45 fits\n"
     ]
    },
    {
     "name": "stderr",
     "output_type": "stream",
     "text": [
      "[Parallel(n_jobs=1)]: Done  45 out of  45 | elapsed:  1.7min finished\n"
     ]
    }
   ],
   "source": [
    "grid_parameters = {'n_estimators':[5,10,25,50,100], 'max_depth':[20,50,100]}\n",
    "rfReg = RandomForestRegressor()\n",
    "rfReg3_grid = GridSearchCV(rfReg, grid_parameters, scoring=scorer, verbose=1)\n",
    "rfReg3_grid.fit(X_train3, y_train3)\n",
    "rfReg3_grid_pred = rfReg3_grid.predict(X_test3)"
   ]
  },
  {
   "cell_type": "code",
   "execution_count": 196,
   "metadata": {
    "collapsed": false
   },
   "outputs": [
    {
     "name": "stdout",
     "output_type": "stream",
     "text": [
      "\n",
      "Best Params:  {'n_neighbors': 5, 'weights': 'distance'}\n",
      "explained varience score:  0.885231671419\n",
      "r2_score:  0.884807576376\n",
      "r2_score:  0.885392220677\n"
     ]
    }
   ],
   "source": [
    "print \"\\nBest Params: \", knn3_grid.best_params_ \n",
    "print \"explained varience score: \", metrics.explained_variance_score(y_true3, rfReg3_grid_pred, multioutput='variance_weighted')\n",
    "print \"r2_score: \", metrics.r2_score(y_true3, rfReg3_grid_pred, multioutput='variance_weighted') \n",
    "print \"r2_score: \", metrics.r2_score(y_true3, rfReg3_grid_pred, multioutput='uniform_average') "
   ]
  },
  {
   "cell_type": "code",
   "execution_count": 194,
   "metadata": {
    "collapsed": false
   },
   "outputs": [
    {
     "data": {
      "text/plain": [
       "array([[-0.18853303,  0.02882239,  0.6565392 ],\n",
       "       [ 0.57412032, -0.21456059,  0.7121439 ],\n",
       "       [-1.47980407, -0.92747902, -1.37851696],\n",
       "       [ 1.3105166 , -0.30645456, -0.42193999],\n",
       "       [-0.20735343, -0.7377493 ,  0.06292868],\n",
       "       [ 0.46405163, -0.83589793,  0.03820096],\n",
       "       [ 0.05579429, -0.92565283,  1.02046058],\n",
       "       [ 1.40301183, -0.0252512 ,  0.28197163],\n",
       "       [-0.31988882,  0.29588401,  0.29548928],\n",
       "       [ 0.68858736,  0.51830075, -0.87307206],\n",
       "       [-0.38734786,  0.39252629, -1.29460561],\n",
       "       [-0.85523698,  1.1168826 ,  1.24875996],\n",
       "       [ 1.59999619, -1.00648332,  0.03716791],\n",
       "       [-1.5834638 , -0.15540543,  0.9750705 ],\n",
       "       [ 0.86943957, -0.93570779,  0.43314089],\n",
       "       [ 1.6150163 ,  0.69166557,  0.30616569],\n",
       "       [-1.60441506, -0.5895631 ,  1.51261996],\n",
       "       [ 0.1195596 , -1.44336782,  0.06168392],\n",
       "       [-0.41868794,  1.07502013, -1.41594353],\n",
       "       [-1.31741458, -0.61930281,  0.87705998],\n",
       "       [-1.12903344, -0.33768755, -0.85078989],\n",
       "       [ 1.23042262, -0.698182  ,  0.88308674],\n",
       "       [-0.30044065, -0.03601353,  0.17402614],\n",
       "       [ 0.99854057,  1.32377675, -0.19927694],\n",
       "       [ 1.54742281,  0.53563043, -0.43311732],\n",
       "       [-0.60535736, -1.36934427,  0.77776323],\n",
       "       [-1.61859205, -0.32926263,  1.38809238],\n",
       "       [ 0.25550098,  1.3496234 , -1.21516854],\n",
       "       [ 0.07802742,  1.26541319, -0.61211336],\n",
       "       [ 0.10331627, -1.39315427, -0.01995125],\n",
       "       [-0.73823714, -1.00713166, -1.4113028 ],\n",
       "       [-0.46040592,  0.95767717, -1.32321889],\n",
       "       [-1.31576267,  0.35633786, -0.827814  ],\n",
       "       [-0.81460787,  0.31095532, -0.07366243],\n",
       "       [-1.29153127, -0.42721324,  0.01898243],\n",
       "       [-0.10041436, -0.65389558, -0.8801096 ],\n",
       "       [-0.45928626,  0.72929986,  0.90726988],\n",
       "       [-0.85504603, -0.8803486 , -1.38227183],\n",
       "       [-1.22065789,  0.89898073,  0.46414004],\n",
       "       [-0.33210032, -1.3008655 ,  1.08108148],\n",
       "       [-1.59959378,  0.18650447, -0.71186727],\n",
       "       [ 1.08626958,  0.42548617, -0.03710151],\n",
       "       [-0.57171192,  1.21843725,  1.15756951],\n",
       "       [-1.57442839, -0.09639402,  0.83671086],\n",
       "       [ 0.99508136, -0.31180738,  0.16462956],\n",
       "       [-1.36964154, -0.78218591,  0.66460507],\n",
       "       [-1.47342973,  0.64732907,  0.27777732],\n",
       "       [-1.38667376,  0.11506365, -1.50214965],\n",
       "       [ 0.2329937 , -1.21834102,  0.92326285],\n",
       "       [-0.28798371, -1.15929462, -0.46662459],\n",
       "       [-1.58980772,  0.33914877,  1.08575068],\n",
       "       [ 0.14378158,  0.24712638,  0.32941015],\n",
       "       [ 0.14406897,  1.14152523, -0.70892995],\n",
       "       [ 1.16287002,  1.61259887,  0.92734729],\n",
       "       [-1.17841547, -0.27774549, -0.96713723],\n",
       "       [-0.47338824, -0.97594142, -1.49827345],\n",
       "       [-0.83660147, -0.59931637,  0.4345932 ],\n",
       "       [ 1.65548454,  0.4041833 , -0.24086034],\n",
       "       [-0.10688025,  0.77994518,  0.61472249],\n",
       "       [-1.05632878,  0.76125669, -1.35261394],\n",
       "       [-1.38127686,  0.51159747, -1.6100224 ],\n",
       "       [ 0.64723502, -1.45468538, -0.12336946],\n",
       "       [ 0.18703549,  1.42507977,  1.2909503 ],\n",
       "       [ 1.37037104, -1.03498807,  0.11898757],\n",
       "       [ 0.69506733, -0.12958199,  1.06337047],\n",
       "       [ 1.18859437,  0.81432133,  0.59550893],\n",
       "       [ 1.12758305, -1.09118265,  0.01007865],\n",
       "       [ 1.49768007,  0.81962743,  0.55672006],\n",
       "       [ 1.50247447,  0.98065759, -0.83576849],\n",
       "       [-0.98524252, -0.16074651,  0.19137934],\n",
       "       [-1.51206659,  0.51542746,  0.36251512],\n",
       "       [ 1.49568458,  1.2413966 ,  0.09750055],\n",
       "       [-0.71774177,  0.00658727,  0.71905633],\n",
       "       [-0.56726059, -0.78436524, -1.44576479],\n",
       "       [ 1.4216877 , -0.85131925, -0.06412517],\n",
       "       [-0.53270451,  1.2893028 , -0.30654459],\n",
       "       [-0.98229682,  0.01191443,  0.75438955],\n",
       "       [-0.9967771 ,  0.67923718,  0.16144481],\n",
       "       [ 0.29325193, -0.58870693, -0.12640619],\n",
       "       [-0.9450745 , -0.55910916,  0.95176436],\n",
       "       [ 0.33736275, -0.01348465,  0.57520455],\n",
       "       [-1.49355369, -0.67045316, -1.42761705],\n",
       "       [-1.10177913,  0.49864404, -0.17885834],\n",
       "       [ 0.36255965,  1.14764422, -1.30135728],\n",
       "       [-1.36903381, -1.16070242,  0.79581951],\n",
       "       [-1.07144045,  0.2479856 ,  1.22682302],\n",
       "       [ 0.02169984, -1.14357948, -1.50859808],\n",
       "       [ 0.31548982,  0.08650809,  0.55619996],\n",
       "       [ 1.42958551,  0.22157065,  0.38933926],\n",
       "       [-0.37046223,  0.19996256,  1.2594608 ],\n",
       "       [-0.52326167,  0.99794273, -1.42204376],\n",
       "       [ 0.70154615, -0.61668462, -0.61749678],\n",
       "       [-0.98976221, -0.17411003, -1.47855815],\n",
       "       [-1.26202989, -0.916495  , -1.11409887],\n",
       "       [ 1.43147196,  0.19493739,  0.51203735],\n",
       "       [-0.65857064, -0.29770647, -0.27043115],\n",
       "       [-1.44658596,  0.53695449,  0.9660226 ],\n",
       "       [ 1.23303231,  1.1178619 ,  1.10801454],\n",
       "       [ 1.48463029, -1.56286841,  0.6041593 ],\n",
       "       [-1.25952088,  0.51462425,  1.00540717],\n",
       "       [-0.23997504,  0.47741967, -0.7169027 ],\n",
       "       [-1.36591979,  0.01708054,  0.03605017],\n",
       "       [ 1.42673567, -1.17955796,  0.27369819],\n",
       "       [ 0.43481899, -1.15619387, -0.95313982],\n",
       "       [ 1.30723014,  0.16404356,  0.62736308],\n",
       "       [-0.70261108,  0.0109217 ,  1.20411072],\n",
       "       [-0.86574073,  1.23943095,  1.19406396],\n",
       "       [ 0.36901237,  1.24575755, -1.06162732],\n",
       "       [-0.52499644,  0.35928855,  0.93007452],\n",
       "       [-0.9143981 , -1.5241514 ,  1.28159261],\n",
       "       [ 1.70612047,  0.36308767, -0.49278598],\n",
       "       [ 0.23831844, -0.94881886,  0.60374408],\n",
       "       [-1.4519216 ,  0.36209281,  1.30471674],\n",
       "       [-0.26766014, -0.27965795,  0.87962686],\n",
       "       [-0.34937115,  1.12624914, -1.4339672 ],\n",
       "       [ 0.58924611, -0.83309688, -1.26926602],\n",
       "       [ 1.58618062, -0.1483663 , -0.27984846],\n",
       "       [-0.94616252, -1.39690966,  0.43101101],\n",
       "       [ 1.6784053 , -0.77643598,  0.21575752],\n",
       "       [-1.58594031,  0.45193269, -1.0980191 ],\n",
       "       [ 0.90677987,  0.7339054 ,  0.3792348 ],\n",
       "       [ 0.08960135, -0.19104647,  0.56264324],\n",
       "       [ 1.65655485, -1.40486596, -1.04173963],\n",
       "       [ 1.65380445, -1.04504636,  0.10400024],\n",
       "       [-1.28936967, -0.53326576, -1.26400375],\n",
       "       [-0.96428786, -0.26212114,  1.09840091],\n",
       "       [-0.86189596, -0.62295716, -0.35216696],\n",
       "       [-0.7980777 ,  0.65244203, -1.25141735],\n",
       "       [ 1.24608964, -1.21140813,  0.08479239],\n",
       "       [ 0.22621309,  1.06083785, -1.17695133],\n",
       "       [ 1.21453149, -1.19627362, -0.0409185 ],\n",
       "       [ 0.7271793 , -0.56270632, -0.46651023],\n",
       "       [-1.50533785,  0.28149177,  1.30827853],\n",
       "       [ 0.31081186,  0.6954397 , -0.67402681],\n",
       "       [-1.61678523,  0.04554412,  1.61192947],\n",
       "       [-0.36257164,  0.38273054,  0.69629004],\n",
       "       [-1.50904231, -0.6796255 , -0.16344057],\n",
       "       [-0.65335598, -0.7687188 , -0.07869076],\n",
       "       [-0.29801693,  0.16955638, -0.76950826],\n",
       "       [ 1.33520546,  1.22609681, -0.14455857],\n",
       "       [-0.46945806, -1.09188046, -1.44792315],\n",
       "       [-0.3459059 ,  1.00374343,  0.43994351],\n",
       "       [-0.13185102, -1.370848  ,  0.21944897],\n",
       "       [-1.52371167,  0.3802534 ,  0.69552582],\n",
       "       [ 0.04607726, -1.36752174,  0.7398936 ],\n",
       "       [ 0.29201216, -0.30684529, -1.03519357],\n",
       "       [ 1.49668834, -1.29165929,  0.53807908],\n",
       "       [ 1.70874834, -0.28020139, -0.60427864],\n",
       "       [-1.31589666, -1.36003914,  1.12528781],\n",
       "       [-0.20447027, -0.78841616, -0.83140542],\n",
       "       [ 1.01385907,  1.41992685,  0.59906468],\n",
       "       [ 1.5550255 , -1.1465197 ,  0.3301574 ],\n",
       "       [ 0.74478904, -0.73515556, -0.17511551],\n",
       "       [-0.22062283,  0.81356915, -1.05734268],\n",
       "       [ 0.32902005,  0.88329546, -0.23172609],\n",
       "       [ 1.19179197,  1.52334565,  0.56252192],\n",
       "       [ 1.56161065, -1.14364527, -0.20132941],\n",
       "       [ 1.58808973, -1.10053734,  0.07970333],\n",
       "       [ 1.63647128,  0.73141513,  0.13471374],\n",
       "       [-0.83784968,  0.13873163,  1.15280126],\n",
       "       [-0.01702315, -0.29439181, -0.07822633],\n",
       "       [ 0.59710575,  0.8787814 , -0.40496742],\n",
       "       [ 0.71981005,  1.29612052,  1.13536633],\n",
       "       [-1.19353816,  0.43409052, -0.10696385],\n",
       "       [-0.20201747,  0.31458005,  0.59654943],\n",
       "       [-0.41589425,  1.14937048,  1.03304275],\n",
       "       [ 0.5420603 , -0.31854701, -0.01600601],\n",
       "       [ 0.73703749,  0.53930781, -0.77961205],\n",
       "       [ 0.88242454, -1.52558316, -0.25247608],\n",
       "       [-1.11808916, -0.45615745,  1.26853997],\n",
       "       [ 0.44922901,  1.21618306,  1.10347557],\n",
       "       [ 1.06391357, -1.03765501,  0.03357496],\n",
       "       [ 1.24654243, -0.89479017, -0.07224862],\n",
       "       [-0.92701385,  0.44976303, -0.01899679],\n",
       "       [-0.07935509, -0.11521434,  0.72189298],\n",
       "       [-1.50462836, -0.3667746 ,  0.87111828],\n",
       "       [ 1.38256627, -0.6906797 , -0.13469002],\n",
       "       [-0.0937378 ,  1.39715597,  0.97702207],\n",
       "       [ 0.75575982, -1.33843425, -0.30809279],\n",
       "       [-0.46931034, -1.11653549, -1.42945015],\n",
       "       [-0.09831607,  0.41175739,  0.86704973],\n",
       "       [ 1.62896385, -1.45723594, -1.13047046],\n",
       "       [ 1.39121053, -0.73370926,  0.36536827],\n",
       "       [-0.51708976, -0.46121509,  1.22616162],\n",
       "       [-0.91197669,  0.62085885, -0.00555604],\n",
       "       [-1.1564364 , -0.76068555, -1.08344057],\n",
       "       [-0.41968871, -1.01174023, -1.52652366],\n",
       "       [-1.53534334, -0.18421587,  0.75299817],\n",
       "       [ 0.11107622, -0.80066986,  0.98802862],\n",
       "       [ 0.63360267,  1.02375697,  0.87463357],\n",
       "       [-0.52277144,  0.27470494,  0.95995573],\n",
       "       [-1.26342516, -0.87034147,  1.08182175],\n",
       "       [ 1.0748917 ,  1.30258947, -0.31523495],\n",
       "       [-0.33162556, -0.61762161, -1.24897812],\n",
       "       [ 1.44365835,  1.29458156,  0.44180571],\n",
       "       [ 1.1033471 , -0.80237192, -0.31974677],\n",
       "       [-1.53065697,  0.62523739, -0.90428402],\n",
       "       [-1.59841757, -0.8845226 , -1.41269364],\n",
       "       [ 1.66521617, -1.43201121, -1.27952122],\n",
       "       [ 0.98791971, -0.0425683 ,  0.22033214],\n",
       "       [ 1.10427195, -0.75629291, -0.28556137],\n",
       "       [-0.49966076,  0.11491311,  1.09320142],\n",
       "       [ 0.22146486,  1.09082888, -1.04865347],\n",
       "       [ 1.22116024,  0.82001496, -0.64628755],\n",
       "       [ 0.73414314, -1.53180085, -0.5229226 ],\n",
       "       [-0.42063781,  1.1669305 , -1.349608  ],\n",
       "       [-0.6909852 ,  0.85703751, -1.58253153],\n",
       "       [-0.91340516,  0.71805848,  0.32067654],\n",
       "       [-1.58459096, -0.12026393,  1.29856615],\n",
       "       [ 1.5124262 , -1.41494447, -0.64932564],\n",
       "       [-0.91476206, -1.34953517,  0.77205713],\n",
       "       [ 1.66204617,  0.61250961,  0.28220797],\n",
       "       [-1.1156235 , -0.74163337,  0.59597874],\n",
       "       [ 0.78149353, -1.52222355, -0.82129798],\n",
       "       [-0.20992898,  0.44377238, -0.67999774],\n",
       "       [-1.07768219,  0.84575564,  0.5296782 ],\n",
       "       [-0.22016973,  1.13977131,  0.45426422],\n",
       "       [ 1.09460607, -0.95928144, -0.16052738],\n",
       "       [-1.01419467,  0.171543  ,  1.25853316],\n",
       "       [-0.65638822,  0.46250638,  0.65531106],\n",
       "       [-1.48053127, -0.18327668, -0.57081191],\n",
       "       [-1.0674295 ,  0.19921427,  0.99988369],\n",
       "       [ 1.07133544,  0.1145703 ,  0.55265884],\n",
       "       [ 1.53141554, -1.42091096, -0.70990915],\n",
       "       [-0.44435869,  0.91545933,  0.45140962],\n",
       "       [ 1.50348661, -0.76875226,  0.52635329],\n",
       "       [-1.39892735, -0.04756125, -1.15700219],\n",
       "       [-0.88352471, -0.04266759,  0.52298818],\n",
       "       [ 1.37138531, -1.21569846, -0.00184398],\n",
       "       [ 1.40026184,  0.27857532,  0.47399145],\n",
       "       [-0.65253119,  0.50213218, -1.29921729],\n",
       "       [ 1.45760631, -1.41257652,  0.23507442],\n",
       "       [ 0.38134715,  1.2909171 ,  1.26979302],\n",
       "       [-0.74330526,  0.71353526,  0.2529416 ],\n",
       "       [-0.9154019 ,  0.44142237,  0.25168492],\n",
       "       [ 1.01947011,  1.35627382, -0.63618186],\n",
       "       [-1.19876469, -0.04847424,  1.01762316],\n",
       "       [-1.44784999,  0.20935776,  0.13063482],\n",
       "       [-0.19754932,  0.76859947,  0.59770133],\n",
       "       [ 0.35567168,  1.40704169,  0.62073847],\n",
       "       [-1.59585536, -0.31398732,  1.44396387],\n",
       "       [-0.95550553, -0.60463985,  0.39916342],\n",
       "       [ 1.07677262, -0.77155467, -0.37076258],\n",
       "       [-0.15157897, -1.39887217,  0.01634096],\n",
       "       [ 1.21493476, -0.01197651, -0.55593332],\n",
       "       [-1.62118815, -0.0489933 ,  1.60613822],\n",
       "       [ 1.2874651 ,  0.0994788 , -0.43436284],\n",
       "       [-1.3668461 ,  0.48693973, -0.67232238],\n",
       "       [ 0.79666643,  0.91602098, -1.11581761],\n",
       "       [ 0.07415353,  1.26839328,  0.91273771],\n",
       "       [ 0.12298369, -1.0065856 ,  0.93591654],\n",
       "       [-0.11229029, -0.41979491,  0.83632076],\n",
       "       [ 0.89612247, -1.2371468 , -0.43213208],\n",
       "       [ 1.40866566, -1.40495353, -0.46255053],\n",
       "       [ 0.25462546,  0.33295605,  0.59242721],\n",
       "       [-0.70412279,  0.6626425 , -0.36071794],\n",
       "       [ 1.11601389, -1.48610876, -0.61421255],\n",
       "       [-0.4477168 ,  1.06808478,  0.38794321],\n",
       "       [ 0.19420076, -0.09289811,  0.14967749],\n",
       "       [-1.21695479, -0.04209053, -1.56704432],\n",
       "       [-1.39193546, -0.66511805, -1.38560871],\n",
       "       [ 0.76853332, -1.26840185, -0.13861487],\n",
       "       [ 1.42259863,  0.23645056,  0.49507461],\n",
       "       [ 1.57522128, -1.39185513, -1.06377276],\n",
       "       [ 0.88688137, -0.47744024,  0.38070948],\n",
       "       [ 0.01885285,  0.52787344, -0.61934624],\n",
       "       [ 0.43513897,  0.83439032,  0.72111749],\n",
       "       [-0.19188316,  1.19173798,  0.21676971],\n",
       "       [ 0.07510802, -0.89335047, -1.19489073],\n",
       "       [ 0.88975261, -0.01637361,  0.58947944],\n",
       "       [ 1.01271667,  1.35270022, -1.40151735],\n",
       "       [-0.58592728,  1.25276654,  1.15355547],\n",
       "       [ 1.35139211,  0.57018545, -0.32903133],\n",
       "       [ 0.84929648,  0.84216856,  0.54284613],\n",
       "       [-0.73988034, -1.04277295,  1.29649239],\n",
       "       [-1.27847352, -0.31517894,  0.69380572],\n",
       "       [-0.66205068,  1.14729061,  1.1004277 ],\n",
       "       [ 0.94669282, -0.92734417, -0.58589148],\n",
       "       [ 0.49214991,  1.23224009,  0.55078796],\n",
       "       [ 1.32197168,  1.42486947,  0.75114756],\n",
       "       [-0.60501546,  0.27845273, -0.0146099 ],\n",
       "       [ 0.536686  , -0.270071  ,  0.95402361],\n",
       "       [ 0.57624509, -0.75290277, -1.35337692],\n",
       "       [ 1.6467371 ,  0.99161178,  0.38150561],\n",
       "       [-0.40725951, -1.39897554,  0.2660432 ],\n",
       "       [ 0.53857388, -0.43720825, -0.30608921],\n",
       "       [-1.26372354,  0.07792637, -1.14195069],\n",
       "       [-1.34443912,  0.9248943 ,  0.79320143],\n",
       "       [-0.40865033,  0.09412274,  0.6118498 ],\n",
       "       [-1.12141619, -1.08065017,  0.55797015],\n",
       "       [ 0.42439753, -1.49857624, -1.07455522],\n",
       "       [-0.20466094, -1.01199203, -0.53613292],\n",
       "       [ 0.37080057, -0.83042985, -0.5489802 ],\n",
       "       [-1.51797984,  0.26672259,  1.28946203],\n",
       "       [-0.49679925, -0.52267469, -0.65423056],\n",
       "       [ 0.97321339, -0.0716152 ,  0.97409819],\n",
       "       [ 1.10498449, -1.00217884,  0.15731256],\n",
       "       [-0.39894269, -0.36685061,  0.83330545],\n",
       "       [ 0.78815358, -0.47863654, -0.20900664],\n",
       "       [ 1.07448574, -1.24731621, -0.08088156]])"
      ]
     },
     "execution_count": 194,
     "metadata": {},
     "output_type": "execute_result"
    }
   ],
   "source": [
    "rfReg3_grid_pred"
   ]
  },
  {
   "cell_type": "code",
   "execution_count": 195,
   "metadata": {
    "collapsed": false
   },
   "outputs": [
    {
     "data": {
      "text/plain": [
       "array([[-0.13991098,  0.02336414,  0.81924136],\n",
       "       [ 0.60428048, -0.21656055,  0.66187594],\n",
       "       [-1.53586154, -0.69513136, -1.40232177],\n",
       "       [ 1.34803508, -0.28823108, -0.6514275 ],\n",
       "       [-0.17549509, -0.61844596,  0.00288766],\n",
       "       [ 0.42796329, -0.92578956,  0.1109535 ],\n",
       "       [ 0.0447119 , -1.14615179,  1.59705464],\n",
       "       [ 1.42320714, -0.08168751,  0.86177151],\n",
       "       [-0.35000029,  0.0525482 ,  0.49296708],\n",
       "       [ 0.68951885,  0.35718393, -0.79833281],\n",
       "       [-0.40382492,  0.4180969 , -1.38366812],\n",
       "       [-0.69395262,  1.3019265 ,  1.60517862],\n",
       "       [ 1.617711  , -0.85796036, -1.24209601],\n",
       "       [-1.62529535, -1.17844944,  0.91217374],\n",
       "       [ 0.86674673, -0.9205311 ,  0.32282504],\n",
       "       [ 1.66841393,  0.767928  , -0.60180937],\n",
       "       [-1.6455367 , -1.00871756,  1.45462187],\n",
       "       [ 0.11324681, -1.71790473,  0.33375847],\n",
       "       [-0.45392297,  1.56008135, -1.54042082],\n",
       "       [-1.34723014, -0.8181713 ,  0.87706732],\n",
       "       [-1.10487336, -0.65420321, -0.79478858],\n",
       "       [ 1.2416678 , -0.69469099,  0.89949536],\n",
       "       [-0.27848405,  0.10551042, -0.00179464],\n",
       "       [ 0.96702381,  1.45628931, -0.49911124],\n",
       "       [ 1.62467781,  0.56298677, -1.25345328],\n",
       "       [-0.63478493, -1.72180606,  0.91033116],\n",
       "       [-1.67936187, -0.45395714,  1.17493496],\n",
       "       [ 0.25261904,  1.62538145, -1.35597009],\n",
       "       [ 0.05981234,  1.70275638, -0.80913257],\n",
       "       [ 0.10265261, -1.52798689,  0.1426251 ],\n",
       "       [-1.0125272 , -0.98794589, -1.74182024],\n",
       "       [-0.46677668,  0.69887394, -1.28091436],\n",
       "       [-1.29097442, -0.13899757, -0.81116815],\n",
       "       [-0.8693034 ,  0.5738176 , -0.30540473],\n",
       "       [-1.32912062, -0.56702249,  0.00719295],\n",
       "       [-0.10749753, -0.66681749, -0.91600781],\n",
       "       [-0.43898156,  0.68290778,  0.90787005],\n",
       "       [-0.88213667, -0.65025557, -1.52569078],\n",
       "       [-1.20186251,  1.20473779,  0.39491523],\n",
       "       [-0.32863946, -1.40076794,  1.19100603],\n",
       "       [-1.66855252, -0.82550307, -0.75513493],\n",
       "       [ 1.09058568,  0.26268986,  0.34294523],\n",
       "       [-0.40376906,  1.55870045,  1.38351802],\n",
       "       [-1.64341412, -0.57117401,  0.69570002],\n",
       "       [ 1.00850857, -0.36918505,  0.49727659],\n",
       "       [-1.42853005, -1.26685896,  0.6079356 ],\n",
       "       [-1.48836164,  0.51775187,  0.23873669],\n",
       "       [-1.44476149,  0.81799039, -1.53552044],\n",
       "       [ 0.18821291, -1.46053795,  1.41185538],\n",
       "       [-0.29180105, -1.37491458, -0.28664214],\n",
       "       [-1.58104378,  0.20360652,  1.09459828],\n",
       "       [ 0.11361859, -0.02897461,  0.80302612],\n",
       "       [ 0.12046563,  1.06799697, -0.70433218],\n",
       "       [ 1.22195789,  1.74840876,  1.70096249],\n",
       "       [-1.1287247 , -0.6080752 , -0.89266331],\n",
       "       [-0.53107508, -0.88424498, -1.67457079],\n",
       "       [-0.84284156, -0.58722813,  0.38985903],\n",
       "       [ 1.71977926,  0.48531492,  1.22509342],\n",
       "       [-0.06963435,  0.74147313,  0.74776136],\n",
       "       [-1.02741221,  1.3494252 , -1.41276559],\n",
       "       [-1.43936189,  0.37542125, -1.6632195 ],\n",
       "       [ 0.70237703, -1.52633526,  0.39685342],\n",
       "       [ 0.14007536,  1.58458572,  0.89590684],\n",
       "       [ 1.4169733 , -0.80742736, -1.05601382],\n",
       "       [ 0.73389351, -0.11675031,  1.0504868 ],\n",
       "       [ 1.16775933,  0.72585071,  1.06295575],\n",
       "       [ 1.19870203, -1.07485486,  0.55773603],\n",
       "       [ 1.50257163,  0.78306845,  0.53394051],\n",
       "       [ 1.54163002,  1.11436717, -1.55048513],\n",
       "       [-1.00810727, -0.30864007,  0.19353789],\n",
       "       [-1.53412318,  0.59314689,  0.30875418],\n",
       "       [ 1.66838684,  1.35223492,  1.61075011],\n",
       "       [-0.70094399, -0.16628195,  0.87704509],\n",
       "       [-0.67244829, -0.26749439, -1.65328807],\n",
       "       [ 1.44679735, -0.68900882, -1.21953775],\n",
       "       [-0.57515181,  1.63977931, -0.44913772],\n",
       "       [-0.97286457, -0.19460342,  0.82916163],\n",
       "       [-1.01749452,  1.11914714,  0.04003489],\n",
       "       [ 0.32730241, -0.66540221,  0.05380699],\n",
       "       [-0.84885678, -0.83090252,  1.48093415],\n",
       "       [ 0.2556162 , -0.31031876,  1.23861635],\n",
       "       [-1.5579653 , -1.60701712, -1.47269832],\n",
       "       [-1.10578466,  1.58160015, -0.3809277 ],\n",
       "       [ 0.34805601,  1.54385432, -1.53905555],\n",
       "       [-1.38853494, -1.5425334 ,  0.77703774],\n",
       "       [-1.0832096 , -0.06065525,  1.36563104],\n",
       "       [-0.03534675, -1.33337618, -1.54605941],\n",
       "       [ 0.20284155, -0.29392507,  1.21812069],\n",
       "       [ 1.3923356 ,  0.19089679,  0.36066143],\n",
       "       [-0.36485543,  0.03273205,  1.54329076],\n",
       "       [-0.60024125,  1.75564424, -1.58057708],\n",
       "       [ 0.70277825, -0.62072361, -0.9223834 ],\n",
       "       [-1.0061536 , -0.44439511, -1.47637268],\n",
       "       [-1.28779209, -1.71231008, -0.98535436],\n",
       "       [ 1.42374692,  0.13541979,  1.44584466],\n",
       "       [-0.59051963, -0.3044258 , -0.26642655],\n",
       "       [-1.41867816,  1.32057956,  0.95450414],\n",
       "       [ 1.2211982 ,  1.06874984,  1.27168898],\n",
       "       [ 1.45507518, -1.7346322 ,  1.23985695],\n",
       "       [-1.29881826, -0.14846436,  1.11165812],\n",
       "       [-0.20770232,  1.14506366, -1.09345475],\n",
       "       [-1.41153438,  1.38522671, -0.12986342],\n",
       "       [ 1.48358685, -1.05163031,  0.45699313],\n",
       "       [ 0.40237549, -1.38353754, -0.91949859],\n",
       "       [ 1.27870393,  0.12297597,  0.75860109],\n",
       "       [-0.66447066, -0.30030573,  1.60559027],\n",
       "       [-0.70984154,  1.42286649,  1.44422502],\n",
       "       [ 0.44732877,  1.4887051 , -1.24372679],\n",
       "       [-0.52781767,  0.2729183 ,  0.99452654],\n",
       "       [-0.92135077, -1.71804412,  1.38859126],\n",
       "       [ 1.7208029 ,  0.46220389, -1.73261382],\n",
       "       [ 0.25975234, -1.0517257 ,  0.69774367],\n",
       "       [-1.32519364,  1.69475109,  1.39686135],\n",
       "       [-0.15350164, -0.15867597,  1.16760152],\n",
       "       [-0.31785516,  1.21616275, -1.47542374],\n",
       "       [ 0.58241993, -0.89685211, -1.26909856],\n",
       "       [ 1.60037023, -0.09521442, -0.93154777],\n",
       "       [-0.96422292, -1.46259288,  0.38462403],\n",
       "       [ 1.78086816, -0.70831499, -1.58274559],\n",
       "       [-1.63058952,  1.01508584, -1.13749475],\n",
       "       [ 0.85741882,  0.6260382 ,  0.30965401],\n",
       "       [ 0.06922899, -0.46064242,  1.27344735],\n",
       "       [ 1.78526636, -1.37816397, -0.47176899],\n",
       "       [ 1.68807077, -0.96444756,  1.30161844],\n",
       "       [-1.29978941, -0.41320519, -1.2864369 ],\n",
       "       [-0.99726226, -0.66257537,  1.30244314],\n",
       "       [-0.79711526, -0.83336722, -0.14226055],\n",
       "       [-0.86829154,  1.4042793 , -1.35050239],\n",
       "       [ 1.27730539, -1.23243377,  0.61218685],\n",
       "       [ 0.17118103,  1.22365604, -1.32751127],\n",
       "       [ 1.10456806, -0.91532015, -1.71616585],\n",
       "       [ 0.74581777, -0.633781  , -0.58167511],\n",
       "       [-1.40751234,  1.45255899,  1.37254918],\n",
       "       [ 0.33199006,  0.53843549, -0.63360227],\n",
       "       [-1.64897956,  0.33311468,  1.68281399],\n",
       "       [-0.36870754,  0.30148156,  0.72583688],\n",
       "       [-1.56646262, -1.54650169, -0.17819778],\n",
       "       [-0.55181598, -0.84350925,  0.05354864],\n",
       "       [-0.25754508, -0.03481065, -0.68159039],\n",
       "       [ 1.40677244,  1.42327264, -0.80328406],\n",
       "       [-0.47352413, -1.61800715, -1.42811566],\n",
       "       [-0.3878122 ,  1.05410229,  0.37565155],\n",
       "       [-0.14473729, -1.59708257,  0.44998847],\n",
       "       [-1.53849985,  1.73718474,  0.65294897],\n",
       "       [ 0.04552319, -1.52464343,  1.23972031],\n",
       "       [ 0.23050958, -0.26628146, -1.20984702],\n",
       "       [ 1.54379467, -1.27049042,  1.38022083],\n",
       "       [ 1.74850777, -0.22167124,  0.90520283],\n",
       "       [-1.27423929, -1.62593271,  1.52512625],\n",
       "       [-0.2372679 , -0.5461142 , -1.01860976],\n",
       "       [ 0.95929344,  1.42808279,  0.42860889],\n",
       "       [ 1.555687  , -1.14678723,  0.96928927],\n",
       "       [ 0.7597336 , -0.77765473, -0.33355444],\n",
       "       [-0.18668938,  0.9023133 , -1.09307841],\n",
       "       [ 0.31018994,  0.86458695, -0.27706669],\n",
       "       [ 1.15918841,  1.50404292,  0.40456905],\n",
       "       [ 1.50003013, -1.14609007, -1.3659668 ],\n",
       "       [ 1.52701438, -1.13173142, -0.86386577],\n",
       "       [ 1.73701631,  0.80449429, -0.71593558],\n",
       "       [-0.82799406, -0.05844318,  1.27063814],\n",
       "       [-0.01086165, -0.06001545, -0.4311085 ],\n",
       "       [ 0.60130238,  0.77566291, -0.36560862],\n",
       "       [ 0.80622885,  1.44765747,  1.09910021],\n",
       "       [-1.1871888 ,  0.799703  , -0.16721449],\n",
       "       [-0.1632622 ,  0.1601858 ,  0.8953691 ],\n",
       "       [-0.3964991 ,  1.14469719,  1.10301411],\n",
       "       [ 0.57579923, -0.34915035,  0.05201996],\n",
       "       [ 0.76255114,  0.31016722, -0.56266361],\n",
       "       [ 0.91157759, -1.5761093 ,  0.0155742 ],\n",
       "       [-1.07267363, -0.68724968,  1.66399873],\n",
       "       [ 0.45905747,  1.17096597,  1.13680759],\n",
       "       [ 1.13032237, -1.09846104,  1.09466887],\n",
       "       [ 1.30830674, -0.77325407, -0.55637535],\n",
       "       [-0.91715814,  0.82530414, -0.16495511],\n",
       "       [ 0.0171357 , -0.02083313,  1.06752897],\n",
       "       [-1.56367025, -1.42152626,  0.85843713],\n",
       "       [ 1.38323589, -0.65101222, -0.42104127],\n",
       "       [-0.02261988,  1.25076352,  1.37456193],\n",
       "       [ 0.82369082, -1.29958222, -0.14118678],\n",
       "       [-0.42792503, -1.66136938, -1.3203143 ],\n",
       "       [-0.0514078 ,  0.22337284,  1.2698739 ],\n",
       "       [ 1.74585541, -1.67590174, -0.34134389],\n",
       "       [ 1.42629856, -0.74895339,  1.14457474],\n",
       "       [-0.41111063, -0.4009507 ,  1.64300787],\n",
       "       [-0.91095743,  1.46993943, -0.19580546],\n",
       "       [-1.2084017 , -0.95018356, -1.09989605],\n",
       "       [-0.43378305, -1.58217343, -1.52706203],\n",
       "       [-1.58640244, -1.09165082,  0.68704665],\n",
       "       [ 0.07108546, -0.98828658,  1.51587745],\n",
       "       [ 0.66164386,  0.87595628,  1.62303583],\n",
       "       [-0.52641221,  0.11693564,  1.07349211],\n",
       "       [-1.28937142, -0.92660015,  1.12418106],\n",
       "       [ 1.04671854,  1.44483597, -0.68037678],\n",
       "       [-0.39731553, -0.06747542, -1.54957216],\n",
       "       [ 1.54254266,  1.38114771,  0.55716454],\n",
       "       [ 1.10954058, -0.47150574, -1.62219581],\n",
       "       [-1.57093667,  0.82682216, -0.94197343],\n",
       "       [-1.70224214,  0.06651166, -1.47757111],\n",
       "       [ 1.76865863, -1.46251807,  0.30724571],\n",
       "       [ 0.99525806, -0.06152152,  0.3069651 ],\n",
       "       [ 1.02692069, -0.54319765, -1.32485666],\n",
       "       [-0.5106636 , -0.06752629,  1.20659315],\n",
       "       [ 0.19765287,  1.32957615, -1.23844751],\n",
       "       [ 1.17953929,  0.87458006, -1.02263096],\n",
       "       [ 0.7160414 , -1.71330502, -0.34392612],\n",
       "       [-0.4006086 ,  1.31857442, -1.38996383],\n",
       "       [-0.68713004,  1.14883537, -1.64466998],\n",
       "       [-0.89401434,  1.1225836 ,  0.18489205],\n",
       "       [-1.59471947,  0.08435542,  1.24868517],\n",
       "       [ 1.53581039, -1.48978262,  0.09900556],\n",
       "       [-0.94651891, -1.16839734,  0.68918254],\n",
       "       [ 1.68999613,  0.60969691,  1.54917837],\n",
       "       [-1.08761405, -1.03456467,  0.88492755],\n",
       "       [ 0.64926598, -1.57119666, -1.24637777],\n",
       "       [-0.19943442,  1.08315826, -1.07669451],\n",
       "       [-1.11756149,  0.9246333 ,  0.44045263],\n",
       "       [-0.17670301,  1.60393556,  0.18547743],\n",
       "       [ 1.12765351, -0.91697596, -0.27593093],\n",
       "       [-1.01106253, -0.08162825,  1.44822231],\n",
       "       [-0.63628048,  0.49364272,  0.63392659],\n",
       "       [-1.4310522 , -0.20360994, -0.52958026],\n",
       "       [-1.11666377, -0.0937634 ,  0.96132531],\n",
       "       [ 1.02175554,  0.07385532,  0.32783534],\n",
       "       [ 1.55648244, -1.4998039 ,  0.58021792],\n",
       "       [-0.46748655,  0.94039474,  0.37142347],\n",
       "       [ 1.55306952, -0.7398536 ,  1.33354732],\n",
       "       [-1.46267152, -0.21698897, -1.20284595],\n",
       "       [-0.88437948, -0.34286908,  0.69910881],\n",
       "       [ 1.30513206, -1.05068186, -1.46205878],\n",
       "       [ 1.39983145,  0.23315063,  0.99102885],\n",
       "       [-0.66026628,  0.26305282, -1.26112032],\n",
       "       [ 1.46034742, -1.37608088, -0.50383706],\n",
       "       [ 0.45978612,  1.3578512 ,  1.33567794],\n",
       "       [-0.76464671,  1.34263996, -0.00584576],\n",
       "       [-0.89786992,  0.72136683,  0.13383246],\n",
       "       [ 1.01547149,  1.60199479, -0.96211947],\n",
       "       [-1.2364194 , -0.35401888,  1.09412819],\n",
       "       [-1.4807389 ,  0.74268431,  0.04006076],\n",
       "       [-0.16075649,  0.82305353,  0.57881793],\n",
       "       [ 0.34371711,  1.69168791,  0.31747496],\n",
       "       [-1.61920346,  0.48962195,  1.30810402],\n",
       "       [-0.913536  , -0.65023591,  0.51587283],\n",
       "       [ 1.07577649, -0.5102804 , -1.48806348],\n",
       "       [-0.11841909, -1.76149792,  0.499365  ],\n",
       "       [ 1.20195828,  0.1650933 , -1.27905206],\n",
       "       [-1.68345996,  1.17866226,  1.7003659 ],\n",
       "       [ 1.30703821,  0.38936762, -1.71302165],\n",
       "       [-1.29505525,  1.75590213, -0.72608115],\n",
       "       [ 0.82589808,  0.77263067, -0.94555122],\n",
       "       [ 0.08017818,  1.41666797,  0.65295444],\n",
       "       [ 0.10764992, -1.12364039,  0.95340999],\n",
       "       [-0.00986714, -0.31410803,  1.41728555],\n",
       "       [ 0.77367221, -0.92132667, -1.71687822],\n",
       "       [ 1.38463687, -1.37805048, -0.99845442],\n",
       "       [ 0.18585403,  0.03672061,  1.02773536],\n",
       "       [-0.75571355,  1.00311608, -0.58031292],\n",
       "       [ 0.99761608, -1.59871103, -1.3480628 ],\n",
       "       [-0.44877451,  1.57135029,  0.12639055],\n",
       "       [ 0.21833011, -0.26463436,  0.41993112],\n",
       "       [-1.2505829 , -0.4618358 , -1.57344634],\n",
       "       [-1.41827394, -0.08406599, -1.44011036],\n",
       "       [ 0.82654736, -1.2277677 ,  0.04300304],\n",
       "       [ 1.43128538,  0.19045356,  1.10277752],\n",
       "       [ 1.5375762 , -1.4077509 , -1.65825277],\n",
       "       [ 0.91441073, -0.57113605,  0.95594552],\n",
       "       [-0.0635278 ,  1.49677525, -1.2549061 ],\n",
       "       [ 0.48720672,  0.64545108,  1.61714595],\n",
       "       [-0.11681749,  1.72240537, -0.12219136],\n",
       "       [-0.06000797, -0.62787586, -1.56142451],\n",
       "       [ 0.8927537 ,  0.0193128 ,  0.38586368],\n",
       "       [ 1.0883806 ,  1.68286057, -1.73227213],\n",
       "       [-0.4174944 ,  1.76080217,  1.21922282],\n",
       "       [ 1.3496704 ,  0.46669514, -0.43810393],\n",
       "       [ 0.77764473,  0.89275393,  0.18775156],\n",
       "       [-0.71857238, -1.00050066,  1.35969946],\n",
       "       [-1.30697791, -0.4784307 ,  0.69358204],\n",
       "       [-0.5583558 ,  1.58067311,  1.07538759],\n",
       "       [ 0.95283707, -0.62464599, -1.53384582],\n",
       "       [ 0.54018151,  1.27826415,  0.49593362],\n",
       "       [ 1.33434032,  1.45344346,  0.80373753],\n",
       "       [-0.67778507,  0.11978131, -0.11232219],\n",
       "       [ 0.55272598, -0.37901311,  1.28893712],\n",
       "       [ 0.59419235, -0.76610983, -1.35808325],\n",
       "       [ 1.6861314 ,  0.99717313,  0.34983948],\n",
       "       [-0.32755876, -1.6312109 ,  0.7174009 ],\n",
       "       [ 0.51979647, -0.34733069, -0.45708699],\n",
       "       [-1.30988543,  0.4064811 , -1.19683112],\n",
       "       [-1.37787833,  1.65067134,  0.71913186],\n",
       "       [-0.37175234, -0.04284164,  0.83480332],\n",
       "       [-1.07186832, -1.21396615,  0.75071055],\n",
       "       [ 0.10920264, -1.70589213, -1.46085756],\n",
       "       [-0.16202936, -1.05363307, -0.45804509],\n",
       "       [ 0.30349749, -0.94017354, -0.53524588],\n",
       "       [-1.46267684,  0.79036099,  1.34507095],\n",
       "       [-0.50711314, -0.64165741, -0.65619979],\n",
       "       [ 1.02453008, -0.09979356,  1.64889184],\n",
       "       [ 1.15821871, -1.10711288,  1.47482751],\n",
       "       [-0.36146639, -0.27616719,  0.81272633],\n",
       "       [ 0.84142473, -0.5374952 , -0.07730653],\n",
       "       [ 0.95871106, -1.04911802, -1.39328174]])"
      ]
     },
     "execution_count": 195,
     "metadata": {},
     "output_type": "execute_result"
    }
   ],
   "source": [
    "y_true3"
   ]
  },
  {
   "cell_type": "markdown",
   "metadata": {},
   "source": [
    "##### SVM \n",
    "Cannot be used for  predicting multiple variables."
   ]
  }
 ],
 "metadata": {
  "kernelspec": {
   "display_name": "Python 2",
   "language": "python",
   "name": "python2"
  },
  "language_info": {
   "codemirror_mode": {
    "name": "ipython",
    "version": 2
   },
   "file_extension": ".py",
   "mimetype": "text/x-python",
   "name": "python",
   "nbconvert_exporter": "python",
   "pygments_lexer": "ipython2",
   "version": "2.7.10"
  }
 },
 "nbformat": 4,
 "nbformat_minor": 2
}
